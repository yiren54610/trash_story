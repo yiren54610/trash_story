{
 "cells": [
  {
   "cell_type": "code",
   "execution_count": 1,
   "id": "8a82618a-4b18-4ccf-85da-e0ce748d61c9",
   "metadata": {},
   "outputs": [],
   "source": [
    "import pandas as pd"
   ]
  },
  {
   "cell_type": "code",
   "execution_count": 2,
   "id": "f022d3ac-4f7f-4949-a818-0aab71b02cba",
   "metadata": {},
   "outputs": [],
   "source": [
    "trash = pd.read_excel('landfilllmopdata.xlsx',sheet_name='LMOP Database')"
   ]
  },
  {
   "cell_type": "code",
   "execution_count": 3,
   "id": "be60ea70-380c-4cd8-a141-bd09ec53aa98",
   "metadata": {},
   "outputs": [
    {
     "data": {
      "text/html": [
       "<div>\n",
       "<style scoped>\n",
       "    .dataframe tbody tr th:only-of-type {\n",
       "        vertical-align: middle;\n",
       "    }\n",
       "\n",
       "    .dataframe tbody tr th {\n",
       "        vertical-align: top;\n",
       "    }\n",
       "\n",
       "    .dataframe thead th {\n",
       "        text-align: right;\n",
       "    }\n",
       "</style>\n",
       "<table border=\"1\" class=\"dataframe\">\n",
       "  <thead>\n",
       "    <tr style=\"text-align: right;\">\n",
       "      <th></th>\n",
       "      <th>GHGRP ID</th>\n",
       "      <th>Landfill ID</th>\n",
       "      <th>Landfill Name</th>\n",
       "      <th>State</th>\n",
       "      <th>Landfill Alias</th>\n",
       "      <th>Physical Address</th>\n",
       "      <th>City</th>\n",
       "      <th>County</th>\n",
       "      <th>Zip Code</th>\n",
       "      <th>Latitude</th>\n",
       "      <th>...</th>\n",
       "      <th>LFG Collected (mmscfd)</th>\n",
       "      <th>LFG Collected Year</th>\n",
       "      <th>Percent Methane</th>\n",
       "      <th>Flares in Place?</th>\n",
       "      <th>Number of Flares</th>\n",
       "      <th>LFG Flared (mmscfd)</th>\n",
       "      <th>LFG Flared Year</th>\n",
       "      <th>Number of Wells</th>\n",
       "      <th>GCCS Capacity (cfm)</th>\n",
       "      <th>Passive Venting/Flaring?</th>\n",
       "    </tr>\n",
       "  </thead>\n",
       "  <tbody>\n",
       "    <tr>\n",
       "      <th>0</th>\n",
       "      <td>1007341.0</td>\n",
       "      <td>1994</td>\n",
       "      <td>Anchorage Regional Landfill</td>\n",
       "      <td>AK</td>\n",
       "      <td>NaN</td>\n",
       "      <td>15500 E. Eagle River Loop Road</td>\n",
       "      <td>Eagle River</td>\n",
       "      <td>Anchorage</td>\n",
       "      <td>99577</td>\n",
       "      <td>61.293281</td>\n",
       "      <td>...</td>\n",
       "      <td>4.066</td>\n",
       "      <td>2022.0</td>\n",
       "      <td>50.7</td>\n",
       "      <td>Yes</td>\n",
       "      <td>1.0</td>\n",
       "      <td>1.915</td>\n",
       "      <td>2022.0</td>\n",
       "      <td>111.0</td>\n",
       "      <td>2000.0</td>\n",
       "      <td>No</td>\n",
       "    </tr>\n",
       "    <tr>\n",
       "      <th>1</th>\n",
       "      <td>1010389.0</td>\n",
       "      <td>11941</td>\n",
       "      <td>Capitol Disposal Landfill</td>\n",
       "      <td>AK</td>\n",
       "      <td>NaN</td>\n",
       "      <td>5600 Tonsgard Court</td>\n",
       "      <td>Juneau</td>\n",
       "      <td>Juneau</td>\n",
       "      <td>99801</td>\n",
       "      <td>58.352800</td>\n",
       "      <td>...</td>\n",
       "      <td>0.614</td>\n",
       "      <td>2022.0</td>\n",
       "      <td>27.6</td>\n",
       "      <td>Yes</td>\n",
       "      <td>1.0</td>\n",
       "      <td>0.614</td>\n",
       "      <td>2022.0</td>\n",
       "      <td>48.0</td>\n",
       "      <td>1300.0</td>\n",
       "      <td>No</td>\n",
       "    </tr>\n",
       "    <tr>\n",
       "      <th>2</th>\n",
       "      <td>1005349.0</td>\n",
       "      <td>12216</td>\n",
       "      <td>Central Peninsula Landfill (CPL)</td>\n",
       "      <td>AK</td>\n",
       "      <td>Soldotna Landfill; Central Peninsula Baling Fa...</td>\n",
       "      <td>46915 Sterling Highway</td>\n",
       "      <td>Soldotna</td>\n",
       "      <td>Kenai Peninsula</td>\n",
       "      <td>99669</td>\n",
       "      <td>60.443004</td>\n",
       "      <td>...</td>\n",
       "      <td>NaN</td>\n",
       "      <td>NaN</td>\n",
       "      <td>NaN</td>\n",
       "      <td>No</td>\n",
       "      <td>NaN</td>\n",
       "      <td>NaN</td>\n",
       "      <td>NaN</td>\n",
       "      <td>NaN</td>\n",
       "      <td>NaN</td>\n",
       "      <td>Yes</td>\n",
       "    </tr>\n",
       "    <tr>\n",
       "      <th>3</th>\n",
       "      <td>NaN</td>\n",
       "      <td>10960</td>\n",
       "      <td>Kodiak Island Borough Landfill</td>\n",
       "      <td>AK</td>\n",
       "      <td>NaN</td>\n",
       "      <td>1203 Monashka Bay Road</td>\n",
       "      <td>Kodiak</td>\n",
       "      <td>Kodiak Island</td>\n",
       "      <td>99615</td>\n",
       "      <td>57.808740</td>\n",
       "      <td>...</td>\n",
       "      <td>NaN</td>\n",
       "      <td>NaN</td>\n",
       "      <td>NaN</td>\n",
       "      <td>Unknown</td>\n",
       "      <td>NaN</td>\n",
       "      <td>NaN</td>\n",
       "      <td>NaN</td>\n",
       "      <td>NaN</td>\n",
       "      <td>NaN</td>\n",
       "      <td>Unknown</td>\n",
       "    </tr>\n",
       "    <tr>\n",
       "      <th>4</th>\n",
       "      <td>1004380.0</td>\n",
       "      <td>11020</td>\n",
       "      <td>Merrill Field Landfill</td>\n",
       "      <td>AK</td>\n",
       "      <td>NaN</td>\n",
       "      <td>800 Merrill Field Drive</td>\n",
       "      <td>Anchorage</td>\n",
       "      <td>Anchorage</td>\n",
       "      <td>99501</td>\n",
       "      <td>61.212660</td>\n",
       "      <td>...</td>\n",
       "      <td>0.117</td>\n",
       "      <td>2022.0</td>\n",
       "      <td>35.6</td>\n",
       "      <td>Yes</td>\n",
       "      <td>1.0</td>\n",
       "      <td>0.117</td>\n",
       "      <td>2022.0</td>\n",
       "      <td>30.0</td>\n",
       "      <td>500.0</td>\n",
       "      <td>No</td>\n",
       "    </tr>\n",
       "  </tbody>\n",
       "</table>\n",
       "<p>5 rows × 42 columns</p>\n",
       "</div>"
      ],
      "text/plain": [
       "    GHGRP ID  Landfill ID                     Landfill Name State  \\\n",
       "0  1007341.0         1994       Anchorage Regional Landfill    AK   \n",
       "1  1010389.0        11941         Capitol Disposal Landfill    AK   \n",
       "2  1005349.0        12216  Central Peninsula Landfill (CPL)    AK   \n",
       "3        NaN        10960    Kodiak Island Borough Landfill    AK   \n",
       "4  1004380.0        11020            Merrill Field Landfill    AK   \n",
       "\n",
       "                                      Landfill Alias  \\\n",
       "0                                                NaN   \n",
       "1                                                NaN   \n",
       "2  Soldotna Landfill; Central Peninsula Baling Fa...   \n",
       "3                                                NaN   \n",
       "4                                                NaN   \n",
       "\n",
       "                 Physical Address         City           County Zip Code  \\\n",
       "0  15500 E. Eagle River Loop Road  Eagle River        Anchorage    99577   \n",
       "1             5600 Tonsgard Court       Juneau           Juneau    99801   \n",
       "2          46915 Sterling Highway     Soldotna  Kenai Peninsula    99669   \n",
       "3          1203 Monashka Bay Road       Kodiak    Kodiak Island    99615   \n",
       "4         800 Merrill Field Drive    Anchorage        Anchorage    99501   \n",
       "\n",
       "    Latitude  ...  LFG Collected (mmscfd) LFG Collected Year Percent Methane  \\\n",
       "0  61.293281  ...                   4.066             2022.0            50.7   \n",
       "1  58.352800  ...                   0.614             2022.0            27.6   \n",
       "2  60.443004  ...                     NaN                NaN             NaN   \n",
       "3  57.808740  ...                     NaN                NaN             NaN   \n",
       "4  61.212660  ...                   0.117             2022.0            35.6   \n",
       "\n",
       "  Flares in Place? Number of Flares  LFG Flared (mmscfd)  LFG Flared Year  \\\n",
       "0              Yes              1.0                1.915           2022.0   \n",
       "1              Yes              1.0                0.614           2022.0   \n",
       "2               No              NaN                  NaN              NaN   \n",
       "3          Unknown              NaN                  NaN              NaN   \n",
       "4              Yes              1.0                0.117           2022.0   \n",
       "\n",
       "  Number of Wells  GCCS Capacity (cfm)  Passive Venting/Flaring?  \n",
       "0           111.0               2000.0                        No  \n",
       "1            48.0               1300.0                        No  \n",
       "2             NaN                  NaN                       Yes  \n",
       "3             NaN                  NaN                   Unknown  \n",
       "4            30.0                500.0                        No  \n",
       "\n",
       "[5 rows x 42 columns]"
      ]
     },
     "execution_count": 3,
     "metadata": {},
     "output_type": "execute_result"
    }
   ],
   "source": [
    "trash.head()"
   ]
  },
  {
   "cell_type": "code",
   "execution_count": 35,
   "id": "36a707f8-b138-4e02-8b17-ee46fb12c188",
   "metadata": {},
   "outputs": [
    {
     "data": {
      "text/plain": [
       "array(['Open', 'Closed', 'Unknown'], dtype=object)"
      ]
     },
     "execution_count": 35,
     "metadata": {},
     "output_type": "execute_result"
    }
   ],
   "source": [
    "trash['Current Landfill Status'].unique()"
   ]
  },
  {
   "cell_type": "code",
   "execution_count": 36,
   "id": "5d7186f4-e3e4-4f01-ad82-5f9c30bbce2f",
   "metadata": {},
   "outputs": [],
   "source": [
    "# trash = trash[trash['Current Landfill Status']=='Open']"
   ]
  },
  {
   "cell_type": "markdown",
   "id": "1d41463f-87d0-47b8-bc80-c93822a008e3",
   "metadata": {},
   "source": [
    "# How many wastes (in tons) are in the landfill sites in total per state?"
   ]
  },
  {
   "cell_type": "code",
   "execution_count": 126,
   "id": "7edae633-aced-4e63-b8f9-2d53a37239e0",
   "metadata": {},
   "outputs": [
    {
     "data": {
      "text/html": [
       "<div>\n",
       "<style scoped>\n",
       "    .dataframe tbody tr th:only-of-type {\n",
       "        vertical-align: middle;\n",
       "    }\n",
       "\n",
       "    .dataframe tbody tr th {\n",
       "        vertical-align: top;\n",
       "    }\n",
       "\n",
       "    .dataframe thead th {\n",
       "        text-align: right;\n",
       "    }\n",
       "</style>\n",
       "<table border=\"1\" class=\"dataframe\">\n",
       "  <thead>\n",
       "    <tr style=\"text-align: right;\">\n",
       "      <th></th>\n",
       "      <th>State</th>\n",
       "      <th>Waste in Place (tons)</th>\n",
       "    </tr>\n",
       "  </thead>\n",
       "  <tbody>\n",
       "    <tr>\n",
       "      <th>4</th>\n",
       "      <td>CA</td>\n",
       "      <td>2.038560e+09</td>\n",
       "    </tr>\n",
       "    <tr>\n",
       "      <th>44</th>\n",
       "      <td>TX</td>\n",
       "      <td>1.203511e+09</td>\n",
       "    </tr>\n",
       "    <tr>\n",
       "      <th>38</th>\n",
       "      <td>PA</td>\n",
       "      <td>7.396710e+08</td>\n",
       "    </tr>\n",
       "    <tr>\n",
       "      <th>14</th>\n",
       "      <td>IL</td>\n",
       "      <td>7.281960e+08</td>\n",
       "    </tr>\n",
       "    <tr>\n",
       "      <th>22</th>\n",
       "      <td>MI</td>\n",
       "      <td>7.037427e+08</td>\n",
       "    </tr>\n",
       "    <tr>\n",
       "      <th>35</th>\n",
       "      <td>OH</td>\n",
       "      <td>6.526832e+08</td>\n",
       "    </tr>\n",
       "    <tr>\n",
       "      <th>8</th>\n",
       "      <td>FL</td>\n",
       "      <td>6.127765e+08</td>\n",
       "    </tr>\n",
       "    <tr>\n",
       "      <th>34</th>\n",
       "      <td>NY</td>\n",
       "      <td>5.193907e+08</td>\n",
       "    </tr>\n",
       "    <tr>\n",
       "      <th>15</th>\n",
       "      <td>IN</td>\n",
       "      <td>4.253206e+08</td>\n",
       "    </tr>\n",
       "    <tr>\n",
       "      <th>9</th>\n",
       "      <td>GA</td>\n",
       "      <td>4.046767e+08</td>\n",
       "    </tr>\n",
       "    <tr>\n",
       "      <th>46</th>\n",
       "      <td>VA</td>\n",
       "      <td>3.924636e+08</td>\n",
       "    </tr>\n",
       "    <tr>\n",
       "      <th>27</th>\n",
       "      <td>NC</td>\n",
       "      <td>3.248919e+08</td>\n",
       "    </tr>\n",
       "    <tr>\n",
       "      <th>50</th>\n",
       "      <td>WI</td>\n",
       "      <td>3.025043e+08</td>\n",
       "    </tr>\n",
       "    <tr>\n",
       "      <th>5</th>\n",
       "      <td>CO</td>\n",
       "      <td>2.889579e+08</td>\n",
       "    </tr>\n",
       "    <tr>\n",
       "      <th>3</th>\n",
       "      <td>AZ</td>\n",
       "      <td>2.832922e+08</td>\n",
       "    </tr>\n",
       "    <tr>\n",
       "      <th>43</th>\n",
       "      <td>TN</td>\n",
       "      <td>2.768357e+08</td>\n",
       "    </tr>\n",
       "    <tr>\n",
       "      <th>31</th>\n",
       "      <td>NJ</td>\n",
       "      <td>2.750656e+08</td>\n",
       "    </tr>\n",
       "    <tr>\n",
       "      <th>49</th>\n",
       "      <td>WA</td>\n",
       "      <td>2.421579e+08</td>\n",
       "    </tr>\n",
       "    <tr>\n",
       "      <th>17</th>\n",
       "      <td>KY</td>\n",
       "      <td>2.227648e+08</td>\n",
       "    </tr>\n",
       "    <tr>\n",
       "      <th>1</th>\n",
       "      <td>AL</td>\n",
       "      <td>2.079682e+08</td>\n",
       "    </tr>\n",
       "    <tr>\n",
       "      <th>18</th>\n",
       "      <td>LA</td>\n",
       "      <td>2.052585e+08</td>\n",
       "    </tr>\n",
       "    <tr>\n",
       "      <th>24</th>\n",
       "      <td>MO</td>\n",
       "      <td>1.936260e+08</td>\n",
       "    </tr>\n",
       "    <tr>\n",
       "      <th>41</th>\n",
       "      <td>SC</td>\n",
       "      <td>1.903753e+08</td>\n",
       "    </tr>\n",
       "    <tr>\n",
       "      <th>37</th>\n",
       "      <td>OR</td>\n",
       "      <td>1.829507e+08</td>\n",
       "    </tr>\n",
       "    <tr>\n",
       "      <th>33</th>\n",
       "      <td>NV</td>\n",
       "      <td>1.571920e+08</td>\n",
       "    </tr>\n",
       "    <tr>\n",
       "      <th>36</th>\n",
       "      <td>OK</td>\n",
       "      <td>1.531518e+08</td>\n",
       "    </tr>\n",
       "    <tr>\n",
       "      <th>16</th>\n",
       "      <td>KS</td>\n",
       "      <td>1.333610e+08</td>\n",
       "    </tr>\n",
       "    <tr>\n",
       "      <th>20</th>\n",
       "      <td>MD</td>\n",
       "      <td>1.271852e+08</td>\n",
       "    </tr>\n",
       "    <tr>\n",
       "      <th>19</th>\n",
       "      <td>MA</td>\n",
       "      <td>1.122826e+08</td>\n",
       "    </tr>\n",
       "    <tr>\n",
       "      <th>25</th>\n",
       "      <td>MS</td>\n",
       "      <td>1.108321e+08</td>\n",
       "    </tr>\n",
       "    <tr>\n",
       "      <th>12</th>\n",
       "      <td>IA</td>\n",
       "      <td>1.105970e+08</td>\n",
       "    </tr>\n",
       "    <tr>\n",
       "      <th>23</th>\n",
       "      <td>MN</td>\n",
       "      <td>1.053362e+08</td>\n",
       "    </tr>\n",
       "    <tr>\n",
       "      <th>45</th>\n",
       "      <td>UT</td>\n",
       "      <td>1.039263e+08</td>\n",
       "    </tr>\n",
       "    <tr>\n",
       "      <th>39</th>\n",
       "      <td>PR</td>\n",
       "      <td>9.184240e+07</td>\n",
       "    </tr>\n",
       "    <tr>\n",
       "      <th>2</th>\n",
       "      <td>AR</td>\n",
       "      <td>8.980844e+07</td>\n",
       "    </tr>\n",
       "    <tr>\n",
       "      <th>29</th>\n",
       "      <td>NE</td>\n",
       "      <td>8.221297e+07</td>\n",
       "    </tr>\n",
       "    <tr>\n",
       "      <th>32</th>\n",
       "      <td>NM</td>\n",
       "      <td>7.873366e+07</td>\n",
       "    </tr>\n",
       "    <tr>\n",
       "      <th>30</th>\n",
       "      <td>NH</td>\n",
       "      <td>6.430774e+07</td>\n",
       "    </tr>\n",
       "    <tr>\n",
       "      <th>51</th>\n",
       "      <td>WV</td>\n",
       "      <td>6.013625e+07</td>\n",
       "    </tr>\n",
       "    <tr>\n",
       "      <th>11</th>\n",
       "      <td>HI</td>\n",
       "      <td>4.384049e+07</td>\n",
       "    </tr>\n",
       "    <tr>\n",
       "      <th>40</th>\n",
       "      <td>RI</td>\n",
       "      <td>4.264759e+07</td>\n",
       "    </tr>\n",
       "    <tr>\n",
       "      <th>13</th>\n",
       "      <td>ID</td>\n",
       "      <td>4.137530e+07</td>\n",
       "    </tr>\n",
       "    <tr>\n",
       "      <th>7</th>\n",
       "      <td>DE</td>\n",
       "      <td>3.690036e+07</td>\n",
       "    </tr>\n",
       "    <tr>\n",
       "      <th>21</th>\n",
       "      <td>ME</td>\n",
       "      <td>3.390755e+07</td>\n",
       "    </tr>\n",
       "    <tr>\n",
       "      <th>6</th>\n",
       "      <td>CT</td>\n",
       "      <td>3.156370e+07</td>\n",
       "    </tr>\n",
       "    <tr>\n",
       "      <th>26</th>\n",
       "      <td>MT</td>\n",
       "      <td>3.141757e+07</td>\n",
       "    </tr>\n",
       "    <tr>\n",
       "      <th>0</th>\n",
       "      <td>AK</td>\n",
       "      <td>2.426228e+07</td>\n",
       "    </tr>\n",
       "    <tr>\n",
       "      <th>28</th>\n",
       "      <td>ND</td>\n",
       "      <td>1.703715e+07</td>\n",
       "    </tr>\n",
       "    <tr>\n",
       "      <th>42</th>\n",
       "      <td>SD</td>\n",
       "      <td>1.701364e+07</td>\n",
       "    </tr>\n",
       "    <tr>\n",
       "      <th>48</th>\n",
       "      <td>VT</td>\n",
       "      <td>1.579744e+07</td>\n",
       "    </tr>\n",
       "    <tr>\n",
       "      <th>52</th>\n",
       "      <td>WY</td>\n",
       "      <td>1.075528e+07</td>\n",
       "    </tr>\n",
       "    <tr>\n",
       "      <th>47</th>\n",
       "      <td>VI</td>\n",
       "      <td>3.700000e+06</td>\n",
       "    </tr>\n",
       "    <tr>\n",
       "      <th>10</th>\n",
       "      <td>GU</td>\n",
       "      <td>3.574692e+06</td>\n",
       "    </tr>\n",
       "  </tbody>\n",
       "</table>\n",
       "</div>"
      ],
      "text/plain": [
       "   State  Waste in Place (tons)\n",
       "4     CA           2.038560e+09\n",
       "44    TX           1.203511e+09\n",
       "38    PA           7.396710e+08\n",
       "14    IL           7.281960e+08\n",
       "22    MI           7.037427e+08\n",
       "35    OH           6.526832e+08\n",
       "8     FL           6.127765e+08\n",
       "34    NY           5.193907e+08\n",
       "15    IN           4.253206e+08\n",
       "9     GA           4.046767e+08\n",
       "46    VA           3.924636e+08\n",
       "27    NC           3.248919e+08\n",
       "50    WI           3.025043e+08\n",
       "5     CO           2.889579e+08\n",
       "3     AZ           2.832922e+08\n",
       "43    TN           2.768357e+08\n",
       "31    NJ           2.750656e+08\n",
       "49    WA           2.421579e+08\n",
       "17    KY           2.227648e+08\n",
       "1     AL           2.079682e+08\n",
       "18    LA           2.052585e+08\n",
       "24    MO           1.936260e+08\n",
       "41    SC           1.903753e+08\n",
       "37    OR           1.829507e+08\n",
       "33    NV           1.571920e+08\n",
       "36    OK           1.531518e+08\n",
       "16    KS           1.333610e+08\n",
       "20    MD           1.271852e+08\n",
       "19    MA           1.122826e+08\n",
       "25    MS           1.108321e+08\n",
       "12    IA           1.105970e+08\n",
       "23    MN           1.053362e+08\n",
       "45    UT           1.039263e+08\n",
       "39    PR           9.184240e+07\n",
       "2     AR           8.980844e+07\n",
       "29    NE           8.221297e+07\n",
       "32    NM           7.873366e+07\n",
       "30    NH           6.430774e+07\n",
       "51    WV           6.013625e+07\n",
       "11    HI           4.384049e+07\n",
       "40    RI           4.264759e+07\n",
       "13    ID           4.137530e+07\n",
       "7     DE           3.690036e+07\n",
       "21    ME           3.390755e+07\n",
       "6     CT           3.156370e+07\n",
       "26    MT           3.141757e+07\n",
       "0     AK           2.426228e+07\n",
       "28    ND           1.703715e+07\n",
       "42    SD           1.701364e+07\n",
       "48    VT           1.579744e+07\n",
       "52    WY           1.075528e+07\n",
       "47    VI           3.700000e+06\n",
       "10    GU           3.574692e+06"
      ]
     },
     "execution_count": 126,
     "metadata": {},
     "output_type": "execute_result"
    }
   ],
   "source": [
    "trash.groupby('State')['Waste in Place (tons)'].sum().reset_index().sort_values(by='Waste in Place (tons)',ascending=False)\n"
   ]
  },
  {
   "cell_type": "markdown",
   "id": "a2f5e373",
   "metadata": {},
   "source": [
    "# There are over 13 billion tons of waste in the landfill sites in the US"
   ]
  },
  {
   "cell_type": "code",
   "execution_count": 107,
   "id": "5092415d",
   "metadata": {},
   "outputs": [
    {
     "data": {
      "text/plain": [
       "13552340103.0215"
      ]
     },
     "execution_count": 107,
     "metadata": {},
     "output_type": "execute_result"
    }
   ],
   "source": [
    "trash['Waste in Place (tons)'].sum()"
   ]
  },
  {
   "cell_type": "code",
   "execution_count": 124,
   "id": "98f6c2b8-dfb1-4892-911f-713247e998b2",
   "metadata": {},
   "outputs": [],
   "source": [
    "## no. of landfill sites in the state\n",
    "total_sites = pd.DataFrame(trash['State'].value_counts())"
   ]
  },
  {
   "cell_type": "markdown",
   "id": "5d213f88-3df9-4a95-b44c-525f10a49c0a",
   "metadata": {},
   "source": [
    "# By what percentage of the landfill site have gas collection?"
   ]
  },
  {
   "cell_type": "code",
   "execution_count": 110,
   "id": "2d32e871-4559-45ff-986b-585c9b992d45",
   "metadata": {},
   "outputs": [],
   "source": [
    "LFG = trash.groupby('State')['LFG Collection System In Place?'].value_counts().unstack().reset_index()"
   ]
  },
  {
   "cell_type": "code",
   "execution_count": 111,
   "id": "fe6c8be2-561a-4beb-be00-457af86b4efa",
   "metadata": {},
   "outputs": [
    {
     "name": "stdout",
     "output_type": "stream",
     "text": [
      "<class 'pandas.core.frame.DataFrame'>\n",
      "RangeIndex: 53 entries, 0 to 52\n",
      "Data columns (total 5 columns):\n",
      " #   Column    Non-Null Count  Dtype  \n",
      "---  ------    --------------  -----  \n",
      " 0   State     53 non-null     object \n",
      " 1   No        53 non-null     float64\n",
      " 2   Shutdown  20 non-null     float64\n",
      " 3   Unknown   31 non-null     float64\n",
      " 4   Yes       53 non-null     float64\n",
      "dtypes: float64(4), object(1)\n",
      "memory usage: 2.2+ KB\n"
     ]
    }
   ],
   "source": [
    "LFG.info()"
   ]
  },
  {
   "cell_type": "code",
   "execution_count": 112,
   "id": "40cfbdc3-b51d-4df3-8d2b-9be39bb224b1",
   "metadata": {},
   "outputs": [
    {
     "data": {
      "text/html": [
       "<div>\n",
       "<style scoped>\n",
       "    .dataframe tbody tr th:only-of-type {\n",
       "        vertical-align: middle;\n",
       "    }\n",
       "\n",
       "    .dataframe tbody tr th {\n",
       "        vertical-align: top;\n",
       "    }\n",
       "\n",
       "    .dataframe thead th {\n",
       "        text-align: right;\n",
       "    }\n",
       "</style>\n",
       "<table border=\"1\" class=\"dataframe\">\n",
       "  <thead>\n",
       "    <tr style=\"text-align: right;\">\n",
       "      <th>LFG Collection System In Place?</th>\n",
       "      <th>State</th>\n",
       "      <th>No</th>\n",
       "      <th>Shutdown</th>\n",
       "      <th>Unknown</th>\n",
       "      <th>Yes</th>\n",
       "    </tr>\n",
       "  </thead>\n",
       "  <tbody>\n",
       "    <tr>\n",
       "      <th>4</th>\n",
       "      <td>CA</td>\n",
       "      <td>136.0</td>\n",
       "      <td>1.0</td>\n",
       "      <td>3.0</td>\n",
       "      <td>159.0</td>\n",
       "    </tr>\n",
       "    <tr>\n",
       "      <th>44</th>\n",
       "      <td>TX</td>\n",
       "      <td>33.0</td>\n",
       "      <td>2.0</td>\n",
       "      <td>6.0</td>\n",
       "      <td>88.0</td>\n",
       "    </tr>\n",
       "    <tr>\n",
       "      <th>14</th>\n",
       "      <td>IL</td>\n",
       "      <td>25.0</td>\n",
       "      <td>1.0</td>\n",
       "      <td>3.0</td>\n",
       "      <td>67.0</td>\n",
       "    </tr>\n",
       "    <tr>\n",
       "      <th>38</th>\n",
       "      <td>PA</td>\n",
       "      <td>18.0</td>\n",
       "      <td>NaN</td>\n",
       "      <td>NaN</td>\n",
       "      <td>56.0</td>\n",
       "    </tr>\n",
       "    <tr>\n",
       "      <th>27</th>\n",
       "      <td>NC</td>\n",
       "      <td>69.0</td>\n",
       "      <td>2.0</td>\n",
       "      <td>NaN</td>\n",
       "      <td>52.0</td>\n",
       "    </tr>\n",
       "  </tbody>\n",
       "</table>\n",
       "</div>"
      ],
      "text/plain": [
       "LFG Collection System In Place? State     No  Shutdown  Unknown    Yes\n",
       "4                                  CA  136.0       1.0      3.0  159.0\n",
       "44                                 TX   33.0       2.0      6.0   88.0\n",
       "14                                 IL   25.0       1.0      3.0   67.0\n",
       "38                                 PA   18.0       NaN      NaN   56.0\n",
       "27                                 NC   69.0       2.0      NaN   52.0"
      ]
     },
     "execution_count": 112,
     "metadata": {},
     "output_type": "execute_result"
    }
   ],
   "source": [
    "LFG.sort_values(by='Yes',ascending=False).head()"
   ]
  },
  {
   "cell_type": "code",
   "execution_count": 113,
   "id": "ecc2f996-f9e8-4c82-a4ff-ca595afe32e9",
   "metadata": {},
   "outputs": [],
   "source": [
    "all_LFG = LFG.merge(total_sites, left_on='State', right_on='State')"
   ]
  },
  {
   "cell_type": "code",
   "execution_count": 114,
   "id": "d90e3d4f-7a34-47f2-b084-2116101547e2",
   "metadata": {},
   "outputs": [],
   "source": [
    "all_LFG['pct_with_collection'] = (all_LFG['Yes']/all_LFG['count']*100).round(2)"
   ]
  },
  {
   "cell_type": "code",
   "execution_count": 115,
   "id": "581b2dd1-0c87-4c47-ba87-1b7e901b8024",
   "metadata": {},
   "outputs": [
    {
     "data": {
      "text/html": [
       "<div>\n",
       "<style scoped>\n",
       "    .dataframe tbody tr th:only-of-type {\n",
       "        vertical-align: middle;\n",
       "    }\n",
       "\n",
       "    .dataframe tbody tr th {\n",
       "        vertical-align: top;\n",
       "    }\n",
       "\n",
       "    .dataframe thead th {\n",
       "        text-align: right;\n",
       "    }\n",
       "</style>\n",
       "<table border=\"1\" class=\"dataframe\">\n",
       "  <thead>\n",
       "    <tr style=\"text-align: right;\">\n",
       "      <th></th>\n",
       "      <th>State</th>\n",
       "      <th>No</th>\n",
       "      <th>Shutdown</th>\n",
       "      <th>Unknown</th>\n",
       "      <th>Yes</th>\n",
       "      <th>count</th>\n",
       "      <th>pct_with_collection</th>\n",
       "    </tr>\n",
       "  </thead>\n",
       "  <tbody>\n",
       "    <tr>\n",
       "      <th>0</th>\n",
       "      <td>AK</td>\n",
       "      <td>3.0</td>\n",
       "      <td>NaN</td>\n",
       "      <td>1.0</td>\n",
       "      <td>4.0</td>\n",
       "      <td>8</td>\n",
       "      <td>50.00</td>\n",
       "    </tr>\n",
       "    <tr>\n",
       "      <th>1</th>\n",
       "      <td>AL</td>\n",
       "      <td>19.0</td>\n",
       "      <td>3.0</td>\n",
       "      <td>NaN</td>\n",
       "      <td>21.0</td>\n",
       "      <td>43</td>\n",
       "      <td>48.84</td>\n",
       "    </tr>\n",
       "    <tr>\n",
       "      <th>2</th>\n",
       "      <td>AR</td>\n",
       "      <td>19.0</td>\n",
       "      <td>NaN</td>\n",
       "      <td>NaN</td>\n",
       "      <td>10.0</td>\n",
       "      <td>29</td>\n",
       "      <td>34.48</td>\n",
       "    </tr>\n",
       "    <tr>\n",
       "      <th>3</th>\n",
       "      <td>AZ</td>\n",
       "      <td>16.0</td>\n",
       "      <td>NaN</td>\n",
       "      <td>2.0</td>\n",
       "      <td>22.0</td>\n",
       "      <td>40</td>\n",
       "      <td>55.00</td>\n",
       "    </tr>\n",
       "    <tr>\n",
       "      <th>4</th>\n",
       "      <td>CA</td>\n",
       "      <td>136.0</td>\n",
       "      <td>1.0</td>\n",
       "      <td>3.0</td>\n",
       "      <td>159.0</td>\n",
       "      <td>299</td>\n",
       "      <td>53.18</td>\n",
       "    </tr>\n",
       "  </tbody>\n",
       "</table>\n",
       "</div>"
      ],
      "text/plain": [
       "  State     No  Shutdown  Unknown    Yes  count  pct_with_collection\n",
       "0    AK    3.0       NaN      1.0    4.0      8                50.00\n",
       "1    AL   19.0       3.0      NaN   21.0     43                48.84\n",
       "2    AR   19.0       NaN      NaN   10.0     29                34.48\n",
       "3    AZ   16.0       NaN      2.0   22.0     40                55.00\n",
       "4    CA  136.0       1.0      3.0  159.0    299                53.18"
      ]
     },
     "execution_count": 115,
     "metadata": {},
     "output_type": "execute_result"
    }
   ],
   "source": [
    "all_LFG.head()"
   ]
  },
  {
   "cell_type": "markdown",
   "id": "a16c67a3-dc49-48d2-a18b-566591d9c26d",
   "metadata": {},
   "source": [
    "# Estimated methane production per state/per site in 2024"
   ]
  },
  {
   "cell_type": "code",
   "execution_count": 132,
   "id": "a6eeab4a-78ab-4b44-a029-bb1c6e8a7da9",
   "metadata": {},
   "outputs": [],
   "source": [
    "# Estimated amount of landfill gas generated by landfill in million standard cubic feet per day\n",
    "# unit: million standard cubic feet\n",
    "trash['total_LFG'] = trash['LFG Generated (mmscfd)']* 365"
   ]
  },
  {
   "cell_type": "code",
   "execution_count": 133,
   "id": "310d124f-afa9-471d-a21f-482f070ac821",
   "metadata": {},
   "outputs": [
    {
     "data": {
      "text/plain": [
       "0    2071.375\n",
       "1     279.225\n",
       "2     239.805\n",
       "3         NaN\n",
       "4     433.255\n",
       "Name: total_LFG, dtype: float64"
      ]
     },
     "execution_count": 133,
     "metadata": {},
     "output_type": "execute_result"
    }
   ],
   "source": [
    "trash['total_LFG'].head()"
   ]
  },
  {
   "cell_type": "code",
   "execution_count": 134,
   "id": "262e4c2e-3ade-47f4-bcb1-5ae2e115feb6",
   "metadata": {},
   "outputs": [],
   "source": [
    "# total methane\n",
    "trash['total_methane'] = trash['total_LFG']*trash['Percent Methane']/100"
   ]
  },
  {
   "cell_type": "code",
   "execution_count": 135,
   "id": "1e13d631-5f4c-4c52-bb30-a2fbef855ab8",
   "metadata": {},
   "outputs": [
    {
     "data": {
      "text/plain": [
       "0    1050.187125\n",
       "1      77.066100\n",
       "2            NaN\n",
       "3            NaN\n",
       "4     154.238780\n",
       "Name: total_methane, dtype: float64"
      ]
     },
     "execution_count": 135,
     "metadata": {},
     "output_type": "execute_result"
    }
   ],
   "source": [
    "trash['total_methane'].head()"
   ]
  },
  {
   "cell_type": "markdown",
   "id": "66ad0e8e",
   "metadata": {},
   "source": [
    "# total methane each state"
   ]
  },
  {
   "cell_type": "code",
   "execution_count": 1,
   "id": "a54888b9-b374-4e4e-b478-897da2bc5daf",
   "metadata": {},
   "outputs": [
    {
     "ename": "NameError",
     "evalue": "name 'trash' is not defined",
     "output_type": "error",
     "traceback": [
      "\u001b[0;31m---------------------------------------------------------------------------\u001b[0m",
      "\u001b[0;31mNameError\u001b[0m                                 Traceback (most recent call last)",
      "Cell \u001b[0;32mIn[1], line 2\u001b[0m\n\u001b[1;32m      1\u001b[0m \u001b[38;5;66;03m# total methane each state\u001b[39;00m\n\u001b[0;32m----> 2\u001b[0m table \u001b[38;5;241m=\u001b[39m \u001b[43mtrash\u001b[49m\u001b[38;5;241m.\u001b[39mgroupby(\u001b[38;5;124m'\u001b[39m\u001b[38;5;124mState\u001b[39m\u001b[38;5;124m'\u001b[39m)[\u001b[38;5;124m'\u001b[39m\u001b[38;5;124mtotal_methane\u001b[39m\u001b[38;5;124m'\u001b[39m]\u001b[38;5;241m.\u001b[39msum()\u001b[38;5;241m.\u001b[39mreset_index()\u001b[38;5;241m.\u001b[39msort_values(by\u001b[38;5;241m=\u001b[39m\u001b[38;5;124m'\u001b[39m\u001b[38;5;124mtotal_methane\u001b[39m\u001b[38;5;124m'\u001b[39m,ascending\u001b[38;5;241m=\u001b[39m\u001b[38;5;28;01mFalse\u001b[39;00m)\n\u001b[1;32m      3\u001b[0m table2 \u001b[38;5;241m=\u001b[39m trash\u001b[38;5;241m.\u001b[39mgroupby(\u001b[38;5;124m'\u001b[39m\u001b[38;5;124mState\u001b[39m\u001b[38;5;124m'\u001b[39m)[\u001b[38;5;124m'\u001b[39m\u001b[38;5;124mtotal_LFG\u001b[39m\u001b[38;5;124m'\u001b[39m]\u001b[38;5;241m.\u001b[39msum()\u001b[38;5;241m.\u001b[39mreset_index()\u001b[38;5;241m.\u001b[39msort_values(by\u001b[38;5;241m=\u001b[39m\u001b[38;5;124m'\u001b[39m\u001b[38;5;124mtotal_LFG\u001b[39m\u001b[38;5;124m'\u001b[39m,ascending\u001b[38;5;241m=\u001b[39m\u001b[38;5;28;01mFalse\u001b[39;00m)\n",
      "\u001b[0;31mNameError\u001b[0m: name 'trash' is not defined"
     ]
    }
   ],
   "source": [
    "# total methane each state\n",
    "table = trash.groupby('State')['total_methane'].sum().reset_index().sort_values(by='total_methane',ascending=False)\n",
    "table2 = trash.groupby('State')['total_LFG'].sum().reset_index().sort_values(by='total_LFG',ascending=False)"
   ]
  },
  {
   "cell_type": "code",
   "execution_count": null,
   "id": "ce70be47",
   "metadata": {},
   "outputs": [],
   "source": [
    "merged_table = table.merge(table2, left_on='State', right_on='State')"
   ]
  },
  {
   "cell_type": "code",
   "execution_count": 137,
   "id": "b15451bb-25aa-4b2b-8052-1d7adec10569",
   "metadata": {},
   "outputs": [],
   "source": [
    "# total methane collected eash state in 2024\n",
    "# LFG Collected (mmscfd): Amount of landfill gas being collected in million standard cubic feet per day\n",
    "# unit: million standard cubic feet\n",
    "trash['total_LFG_collected'] = trash['LFG Collected (mmscfd)'] * 365"
   ]
  },
  {
   "cell_type": "code",
   "execution_count": 138,
   "id": "30724222-2a04-45a9-b769-12d23a6322e2",
   "metadata": {},
   "outputs": [],
   "source": [
    "# percentage of methane collected\n",
    "# unit: million standard cubic feet\n",
    "trash['total_methane_collected'] = trash['total_LFG_collected'] * trash['Percent Methane']/100\n",
    "trash['pct_methane_collected'] = trash['total_methane_collected']/trash['total_methane']* 100"
   ]
  },
  {
   "cell_type": "code",
   "execution_count": 139,
   "id": "4f595e0f-b619-41e8-b438-068630faac97",
   "metadata": {},
   "outputs": [
    {
     "data": {
      "text/html": [
       "<div>\n",
       "<style scoped>\n",
       "    .dataframe tbody tr th:only-of-type {\n",
       "        vertical-align: middle;\n",
       "    }\n",
       "\n",
       "    .dataframe tbody tr th {\n",
       "        vertical-align: top;\n",
       "    }\n",
       "\n",
       "    .dataframe thead th {\n",
       "        text-align: right;\n",
       "    }\n",
       "</style>\n",
       "<table border=\"1\" class=\"dataframe\">\n",
       "  <thead>\n",
       "    <tr style=\"text-align: right;\">\n",
       "      <th></th>\n",
       "      <th>GHGRP ID</th>\n",
       "      <th>Landfill ID</th>\n",
       "      <th>Landfill Name</th>\n",
       "      <th>State</th>\n",
       "      <th>Landfill Alias</th>\n",
       "      <th>Physical Address</th>\n",
       "      <th>City</th>\n",
       "      <th>County</th>\n",
       "      <th>Zip Code</th>\n",
       "      <th>Latitude</th>\n",
       "      <th>...</th>\n",
       "      <th>LFG Flared (mmscfd)</th>\n",
       "      <th>LFG Flared Year</th>\n",
       "      <th>Number of Wells</th>\n",
       "      <th>GCCS Capacity (cfm)</th>\n",
       "      <th>Passive Venting/Flaring?</th>\n",
       "      <th>total_LFG</th>\n",
       "      <th>total_methane</th>\n",
       "      <th>total_LFG_collected</th>\n",
       "      <th>total_methane_collected</th>\n",
       "      <th>pct_methane_collected</th>\n",
       "    </tr>\n",
       "  </thead>\n",
       "  <tbody>\n",
       "    <tr>\n",
       "      <th>0</th>\n",
       "      <td>1007341.0</td>\n",
       "      <td>1994</td>\n",
       "      <td>Anchorage Regional Landfill</td>\n",
       "      <td>AK</td>\n",
       "      <td>NaN</td>\n",
       "      <td>15500 E. Eagle River Loop Road</td>\n",
       "      <td>Eagle River</td>\n",
       "      <td>Anchorage</td>\n",
       "      <td>99577</td>\n",
       "      <td>61.293281</td>\n",
       "      <td>...</td>\n",
       "      <td>1.915</td>\n",
       "      <td>2022.0</td>\n",
       "      <td>111.0</td>\n",
       "      <td>2000.0</td>\n",
       "      <td>No</td>\n",
       "      <td>2071.375</td>\n",
       "      <td>1050.187125</td>\n",
       "      <td>1484.090</td>\n",
       "      <td>752.43363</td>\n",
       "      <td>71.647577</td>\n",
       "    </tr>\n",
       "    <tr>\n",
       "      <th>1</th>\n",
       "      <td>1010389.0</td>\n",
       "      <td>11941</td>\n",
       "      <td>Capitol Disposal Landfill</td>\n",
       "      <td>AK</td>\n",
       "      <td>NaN</td>\n",
       "      <td>5600 Tonsgard Court</td>\n",
       "      <td>Juneau</td>\n",
       "      <td>Juneau</td>\n",
       "      <td>99801</td>\n",
       "      <td>58.352800</td>\n",
       "      <td>...</td>\n",
       "      <td>0.614</td>\n",
       "      <td>2022.0</td>\n",
       "      <td>48.0</td>\n",
       "      <td>1300.0</td>\n",
       "      <td>No</td>\n",
       "      <td>279.225</td>\n",
       "      <td>77.066100</td>\n",
       "      <td>224.110</td>\n",
       "      <td>61.85436</td>\n",
       "      <td>80.261438</td>\n",
       "    </tr>\n",
       "    <tr>\n",
       "      <th>2</th>\n",
       "      <td>1005349.0</td>\n",
       "      <td>12216</td>\n",
       "      <td>Central Peninsula Landfill (CPL)</td>\n",
       "      <td>AK</td>\n",
       "      <td>Soldotna Landfill; Central Peninsula Baling Fa...</td>\n",
       "      <td>46915 Sterling Highway</td>\n",
       "      <td>Soldotna</td>\n",
       "      <td>Kenai Peninsula</td>\n",
       "      <td>99669</td>\n",
       "      <td>60.443004</td>\n",
       "      <td>...</td>\n",
       "      <td>NaN</td>\n",
       "      <td>NaN</td>\n",
       "      <td>NaN</td>\n",
       "      <td>NaN</td>\n",
       "      <td>Yes</td>\n",
       "      <td>239.805</td>\n",
       "      <td>NaN</td>\n",
       "      <td>NaN</td>\n",
       "      <td>NaN</td>\n",
       "      <td>NaN</td>\n",
       "    </tr>\n",
       "    <tr>\n",
       "      <th>3</th>\n",
       "      <td>NaN</td>\n",
       "      <td>10960</td>\n",
       "      <td>Kodiak Island Borough Landfill</td>\n",
       "      <td>AK</td>\n",
       "      <td>NaN</td>\n",
       "      <td>1203 Monashka Bay Road</td>\n",
       "      <td>Kodiak</td>\n",
       "      <td>Kodiak Island</td>\n",
       "      <td>99615</td>\n",
       "      <td>57.808740</td>\n",
       "      <td>...</td>\n",
       "      <td>NaN</td>\n",
       "      <td>NaN</td>\n",
       "      <td>NaN</td>\n",
       "      <td>NaN</td>\n",
       "      <td>Unknown</td>\n",
       "      <td>NaN</td>\n",
       "      <td>NaN</td>\n",
       "      <td>NaN</td>\n",
       "      <td>NaN</td>\n",
       "      <td>NaN</td>\n",
       "    </tr>\n",
       "    <tr>\n",
       "      <th>4</th>\n",
       "      <td>1004380.0</td>\n",
       "      <td>11020</td>\n",
       "      <td>Merrill Field Landfill</td>\n",
       "      <td>AK</td>\n",
       "      <td>NaN</td>\n",
       "      <td>800 Merrill Field Drive</td>\n",
       "      <td>Anchorage</td>\n",
       "      <td>Anchorage</td>\n",
       "      <td>99501</td>\n",
       "      <td>61.212660</td>\n",
       "      <td>...</td>\n",
       "      <td>0.117</td>\n",
       "      <td>2022.0</td>\n",
       "      <td>30.0</td>\n",
       "      <td>500.0</td>\n",
       "      <td>No</td>\n",
       "      <td>433.255</td>\n",
       "      <td>154.238780</td>\n",
       "      <td>42.705</td>\n",
       "      <td>15.20298</td>\n",
       "      <td>9.856782</td>\n",
       "    </tr>\n",
       "  </tbody>\n",
       "</table>\n",
       "<p>5 rows × 47 columns</p>\n",
       "</div>"
      ],
      "text/plain": [
       "    GHGRP ID  Landfill ID                     Landfill Name State  \\\n",
       "0  1007341.0         1994       Anchorage Regional Landfill    AK   \n",
       "1  1010389.0        11941         Capitol Disposal Landfill    AK   \n",
       "2  1005349.0        12216  Central Peninsula Landfill (CPL)    AK   \n",
       "3        NaN        10960    Kodiak Island Borough Landfill    AK   \n",
       "4  1004380.0        11020            Merrill Field Landfill    AK   \n",
       "\n",
       "                                      Landfill Alias  \\\n",
       "0                                                NaN   \n",
       "1                                                NaN   \n",
       "2  Soldotna Landfill; Central Peninsula Baling Fa...   \n",
       "3                                                NaN   \n",
       "4                                                NaN   \n",
       "\n",
       "                 Physical Address         City           County Zip Code  \\\n",
       "0  15500 E. Eagle River Loop Road  Eagle River        Anchorage    99577   \n",
       "1             5600 Tonsgard Court       Juneau           Juneau    99801   \n",
       "2          46915 Sterling Highway     Soldotna  Kenai Peninsula    99669   \n",
       "3          1203 Monashka Bay Road       Kodiak    Kodiak Island    99615   \n",
       "4         800 Merrill Field Drive    Anchorage        Anchorage    99501   \n",
       "\n",
       "    Latitude  ...  LFG Flared (mmscfd) LFG Flared Year Number of Wells  \\\n",
       "0  61.293281  ...                1.915          2022.0           111.0   \n",
       "1  58.352800  ...                0.614          2022.0            48.0   \n",
       "2  60.443004  ...                  NaN             NaN             NaN   \n",
       "3  57.808740  ...                  NaN             NaN             NaN   \n",
       "4  61.212660  ...                0.117          2022.0            30.0   \n",
       "\n",
       "  GCCS Capacity (cfm) Passive Venting/Flaring?  total_LFG  total_methane  \\\n",
       "0              2000.0                       No   2071.375    1050.187125   \n",
       "1              1300.0                       No    279.225      77.066100   \n",
       "2                 NaN                      Yes    239.805            NaN   \n",
       "3                 NaN                  Unknown        NaN            NaN   \n",
       "4               500.0                       No    433.255     154.238780   \n",
       "\n",
       "  total_LFG_collected  total_methane_collected  pct_methane_collected  \n",
       "0            1484.090                752.43363              71.647577  \n",
       "1             224.110                 61.85436              80.261438  \n",
       "2                 NaN                      NaN                    NaN  \n",
       "3                 NaN                      NaN                    NaN  \n",
       "4              42.705                 15.20298               9.856782  \n",
       "\n",
       "[5 rows x 47 columns]"
      ]
     },
     "execution_count": 139,
     "metadata": {},
     "output_type": "execute_result"
    }
   ],
   "source": [
    "trash.head()"
   ]
  },
  {
   "cell_type": "code",
   "execution_count": 53,
   "id": "0fd7d672-4718-4ecd-9444-16920ffdefb8",
   "metadata": {},
   "outputs": [
    {
     "data": {
      "text/plain": [
       "0       71.647577\n",
       "1       80.261438\n",
       "2             NaN\n",
       "5             NaN\n",
       "6             NaN\n",
       "          ...    \n",
       "2636          NaN\n",
       "2637    41.709402\n",
       "2638          NaN\n",
       "2639          NaN\n",
       "2640          NaN\n",
       "Name: pct_methane_collected, Length: 1266, dtype: float64"
      ]
     },
     "execution_count": 53,
     "metadata": {},
     "output_type": "execute_result"
    }
   ],
   "source": [
    "trash['pct_methane_collected']"
   ]
  },
  {
   "cell_type": "markdown",
   "id": "6bca4207",
   "metadata": {},
   "source": [
    "# mapping"
   ]
  },
  {
   "cell_type": "markdown",
   "id": "470d872c",
   "metadata": {},
   "source": []
  },
  {
   "cell_type": "code",
   "execution_count": 15,
   "id": "db66c6db-9d85-4403-ae16-2383dfcbc2d3",
   "metadata": {},
   "outputs": [],
   "source": [
    "%load_ext rpy2.ipython\n",
    "%load_ext autoreload\n",
    "%autoreload 2\n",
    "\n",
    "%matplotlib inline  \n",
    "from matplotlib import rcParams\n",
    "rcParams['figure.figsize'] = (16, 100)\n",
    "\n",
    "import warnings\n",
    "from rpy2.rinterface import RRuntimeWarning\n",
    "warnings.filterwarnings(\"ignore\") # Ignore all warnings\n",
    "# warnings.filterwarnings(\"ignore\", category=RRuntimeWarning) # Show some warnings\n",
    "\n",
    "import pandas as pd\n",
    "import numpy as np\n",
    "import matplotlib.pyplot as plt\n",
    "from IPython.display import display, HTML"
   ]
  },
  {
   "cell_type": "code",
   "execution_count": 16,
   "id": "b06f6878",
   "metadata": {},
   "outputs": [
    {
     "data": {
      "application/javascript": "// Disable auto-scrolling\nIPython.OutputArea.prototype._should_scroll = function(lines) {\n    return false;\n}\n",
      "text/plain": [
       "<IPython.core.display.Javascript object>"
      ]
     },
     "metadata": {},
     "output_type": "display_data"
    }
   ],
   "source": [
    "%%javascript\n",
    "// Disable auto-scrolling\n",
    "IPython.OutputArea.prototype._should_scroll = function(lines) {\n",
    "    return false;\n",
    "}"
   ]
  },
  {
   "cell_type": "code",
   "execution_count": 8,
   "id": "48f4766e",
   "metadata": {},
   "outputs": [],
   "source": [
    "%%R \n",
    "\n",
    "library(tidycensus)\n",
    "library(tidyverse)\n",
    "\n",
    "# store any shapefiles we grab from the census in ~/Library/Caches/tigris\n",
    "# in case the government removes the shapefiles FTP server again 😭\n",
    "options(tigris_use_cache = TRUE)"
   ]
  },
  {
   "cell_type": "code",
   "execution_count": 9,
   "id": "bf871a67",
   "metadata": {},
   "outputs": [
    {
     "data": {
      "text/plain": [
       "True"
      ]
     },
     "execution_count": 9,
     "metadata": {},
     "output_type": "execute_result"
    }
   ],
   "source": [
    "from dotenv import load_dotenv\n",
    "load_dotenv() # <- searches for a file named .env and loads the environment variables in it"
   ]
  },
  {
   "cell_type": "code",
   "execution_count": 10,
   "id": "75228b9e",
   "metadata": {},
   "outputs": [
    {
     "data": {
      "text/plain": [
       "To install your API key for use in future sessions, run this function with `install = TRUE`.\n"
      ]
     },
     "metadata": {},
     "output_type": "display_data"
    }
   ],
   "source": [
    "%%R \n",
    "\n",
    "census_api_key(Sys.getenv(\"CENSUS_API_KEY\"),overwrite=TRUE) # <- Loads CENSUS_API_KEY from environment variable and sets it in R"
   ]
  },
  {
   "cell_type": "code",
   "execution_count": 72,
   "id": "3637cfeb",
   "metadata": {},
   "outputs": [
    {
     "name": "stdout",
     "output_type": "stream",
     "text": [
      "  |======================================================================| 100%\n",
      "  |======================================================================| 100%\n",
      "  |======================================================================| 100%\n",
      "  |======================================================================| 100%\n",
      "  |======================================================================| 100%    61 kB     82 kB     82 kB     110 kB     110 kB     130 kB     130 kB     140 kB     140 kB     160 kB     160 kB     180 kB     180 kB     200 kB     200 kB     230 kB     230 kB     240 kB     240 kB     260 kB     260 kB     270 kB     270 kB     290 kB     290 kB     310 kB     310 kB     320 kB     320 kB     340 kB     340 kB     360 kB     360 kB     370 kB     370 kB     390 kB     390 kB     410 kB     410 kB     420 kB     420 kB     440 kB     440 kB     450 kB     450 kB     470 kB     470 kB     490 kB     490 kB     500 kB     500 kB     520 kB     520 kB     540 kB     540 kB     550 kB     550 kB     570 kB     570 kB     590 kB     590 kB     600 kB     600 kB     620 kB     620 kB     630 kB     630 kB     650 kB     650 kB     670 kB     670 kB     680 kB     680 kB     700 kB     700 kB     720 kB     720 kB     730 kB     730 kB     750 kB     750 kB     770 kB     770 kB     780 kB     780 kB     800 kB     800 kB     810 kB     810 kB     830 kB     830 kB     850 kB     850 kB     860 kB     860 kB     880 kB     880 kB     900 kB     900 kB     910 kB     910 kB     930 kB     930 kB     950 kB     950 kB     960 kB     960 kB     980 kB     980 kB     990 kB     990 kB     1 MB     1 MB     1 MB     1 MB     1 MB     1 MB     1.1 MB     1.1 MB     1.1 MB     1.1 MB     1.1 MB     1.1 MB     1.1 MB     1.1 MB     1.1 MB     1.1 MB     1.1 MB     1.1 MB     1.1 MB     1.1 MB     1.2 MB     1.2 MB     1.2 MB     1.2 MB     1.2 MB     1.2 MB     1.2 MB     1.2 MB     1.2 MB     1.2 MB     1.2 MB     1.2 MB     1.3 MB     1.3 MB     1.3 MB     1.3 MB     1.3 MB     1.3 MB     1.3 MB     1.3 MB     1.3 MB     1.3 MB     1.3 MB     1.3 MB     1.4 MB     1.4 MB     1.4 MB     1.4 MB     1.4 MB     1.4 MB     1.4 MB     1.4 MB     1.4 MB     1.4 MB     1.4 MB     1.4 MB     1.5 MB     1.5 MB     1.5 MB     1.5 MB     1.5 MB     1.5 MB     1.5 MB     1.5 MB     1.5 MB     1.5 MB     1.5 MB     1.5 MB     1.6 MB     1.6 MB     1.6 MB     1.6 MB     1.6 MB     1.6 MB     1.6 MB     1.6 MB     1.6 MB     1.6 MB     1.7 MB     1.7 MB     1.7 MB     1.7 MB     1.7 MB     1.7 MB     1.7 MB     1.7 MB     1.7 MB     1.7 MB     1.7 MB     1.7 MB     1.7 MB     1.7 MB     1.8 MB     1.8 MB     1.8 MB     1.8 MB     1.8 MB     1.8 MB     1.8 MB     1.8 MB     1.8 MB     1.8 MB     1.8 MB     1.8 MB     1.9 MB     1.9 MB     1.9 MB     1.9 MB     1.9 MB     1.9 MB     1.9 MB     1.9 MB     1.9 MB     1.9 MB     1.9 MB     1.9 MB     2 MB     2 MB     2 MB     2 MB     2 MB     2 MB     2 MB     2 MB     2 MB     2 MB     2.1 MB     2.1 MB     2.1 MB     2.1 MB     2.1 MB     2.1 MB     2.1 MB     2.1 MB     2.1 MB     2.1 MB     2.1 MB     2.1 MB     2.2 MB     2.2 MB     2.2 MB     2.2 MB     2.2 MB     2.2 MB     2.2 MB     2.2 MB     2.2 MB     2.2 MB     2.2 MB     2.2 MB     2.3 MB     2.3 MB     2.3 MB     2.3 MB     2.3 MB     2.3 MB     2.3 MB     2.3 MB     2.3 MB     2.3 MB     2.4 MB     2.4 MB     2.4 MB     2.4 MB     2.4 MB     2.4 MB     2.4 MB     2.4 MB     2.4 MB     2.4 MB     2.4 MB     2.4 MB     2.5 MB     2.5 MB     2.5 MB     2.5 MB     2.5 MB     2.5 MB     2.5 MB     2.5 MB     2.5 MB     2.5 MB     2.5 MB     2.5 MB     2.6 MB     2.6 MB     2.6 MB     2.6 MB     2.6 MB     2.6 MB     2.6 MB     2.6 MB     2.6 MB     2.6 MB     2.6 MB     2.6 MB     2.7 MB     2.7 MB     2.7 MB     2.7 MB     2.7 MB     2.7 MB     2.7 MB     2.7 MB     2.7 MB     2.7 MB     2.7 MB     2.7 MB     2.8 MB     2.8 MB     2.8 MB     2.8 MB     2.8 MB     2.8 MB     2.8 MB     2.8 MB     2.8 MB     2.8 MB     2.8 MB     2.8 MB     2.9 MB     2.9 MB     2.9 MB     2.9 MB     2.9 MB     2.9 MB     2.9 MB     2.9 MB     2.9 MB     2.9 MB     2.9 MB     2.9 MB     3 MB     3 MB     3 MB     3 MB     3 MB     3 MB     3 MB     3 MB     3 MB     3 MB     3 MB     3 MB     3.1 MB     3.1 MB     3.1 MB     3.1 MB     3.1 MB     3.1 MB     3.1 MB     3.1 MB     3.1 MB     3.1 MB     3.1 MB     3.1 MB     3.2 MB     3.2 MB     3.2 MB     3.2 MB     3.2 MB     3.2 MB     3.2 MB     3.2 MB     3.2 MB     3.2 MB     3.2 MB     3.2 MB     3.3 MB     3.3 MB     3.3 MB     3.3 MB     3.3 MB     3.3 MB     3.3 MB     3.3 MB     3.3 MB     3.3 MB     3.4 MB     3.4 MB     3.4 MB     3.4 MB     3.4 MB     3.4 MB     3.4 MB     3.4 MB     3.4 MB     3.4 MB     3.4 MB     3.4 MB     3.5 MB     3.5 MB     3.5 MB     3.5 MB     3.5 MB     3.5 MB     3.5 MB     3.5 MB     3.5 MB     3.5 MB     3.5 MB     3.5 MB     3.5 MB     3.5 MB     3.6 MB     3.6 MB     3.6 MB     3.6 MB     3.6 MB     3.6 MB     3.6 MB     3.6 MB     3.6 MB     3.6 MB     3.6 MB     3.6 MB     3.7 MB     3.7 MB     3.7 MB     3.7 MB     3.7 MB     3.7 MB     3.7 MB     3.7 MB     3.7 MB     3.7 MB     3.7 MB     3.7 MB     3.8 MB     3.8 MB     3.8 MB     3.8 MB     3.8 MB     3.8 MB     3.8 MB     3.8 MB     3.8 MB     3.8 MB     3.9 MB     3.9 MB     3.9 MB     3.9 MB     3.9 MB     3.9 MB     3.9 MB     3.9 MB     3.9 MB     3.9 MB     3.9 MB     3.9 MB     4 MB     4 MB     4 MB     4 MB     4 MB     4 MB     4 MB     4 MB     4 MB     4 MB     4 MB     4 MB     4.1 MB     4.1 MB     4.1 MB     4.1 MB     4.1 MB     4.1 MB     4.1 MB     4.1 MB     4.1 MB     4.1 MB     4.1 MB     4.1 MB     4.2 MB     4.2 MB     4.2 MB     4.2 MB     4.2 MB     4.2 MB     4.2 MB     4.2 MB     4.2 MB     4.2 MB     4.2 MB     4.2 MB     4.2 MB     4.2 MB     4.2 MB     4.2 MB     \n",
      "  |======================================================================| 100%B     44 kB     61 kB     61 kB     61 kB     61 kB     61 kB     61 kB     65 kB     65 kB     82 kB     82 kB     100 kB     100 kB     120 kB     120 kB     130 kB     130 kB     130 kB     130 kB     150 kB     150 kB     160 kB     160 kB     170 kB     170 kB     180 kB     180 kB     200 kB     200 kB     230 kB     230 kB     240 kB     240 kB     260 kB     260 kB     270 kB     270 kB     290 kB     290 kB     310 kB     310 kB     320 kB     320 kB     340 kB     340 kB     360 kB     360 kB     370 kB     370 kB     370 kB     370 kB     \n",
      "  |======================================================================| 100%\n",
      "  |======================================================================| 100%\n",
      "  |======================================================================| 100%\n",
      "  |======================================================================| 100%\n",
      "  |======================================================================| 100%\n",
      "  |======================================================================| 100%\n",
      "  |======================================================================| 100%\n",
      "  |======================================================================| 100%\n",
      "  |======================================================================| 100%\n",
      "  |======================================================================| 100%    61 kB     78 kB     78 kB     78 kB     78 kB     78 kB     78 kB     94 kB     94 kB     110 kB     110 kB     130 kB     130 kB     140 kB     140 kB     140 kB     140 kB     140 kB     140 kB     160 kB     160 kB     180 kB     180 kB     190 kB     190 kB     190 kB     190 kB     210 kB     210 kB     230 kB     230 kB     240 kB     240 kB     240 kB     240 kB     240 kB     240 kB     260 kB     260 kB     270 kB     270 kB     290 kB     290 kB     310 kB     310 kB     320 kB     320 kB     320 kB     320 kB     320 kB     320 kB     320 kB     320 kB     340 kB     340 kB     360 kB     360 kB     370 kB     370 kB     390 kB     390 kB     390 kB     390 kB     390 kB     390 kB     410 kB     410 kB     420 kB     420 kB     440 kB     440 kB     440 kB     440 kB     440 kB     440 kB     440 kB     440 kB     450 kB     450 kB     450 kB     450 kB     450 kB     450 kB     470 kB     470 kB     490 kB     490 kB     500 kB     500 kB     500 kB     500 kB     500 kB     500 kB     500 kB     500 kB     520 kB     520 kB     540 kB     540 kB     540 kB     540 kB     550 kB     550 kB     570 kB     570 kB     570 kB     570 kB     570 kB     570 kB     590 kB     590 kB     590 kB     590 kB     600 kB     600 kB     620 kB     620 kB     620 kB     620 kB     620 kB     620 kB     620 kB     620 kB     630 kB     630 kB     630 kB     630 kB     630 kB     630 kB     650 kB     650 kB     670 kB     670 kB     670 kB     670 kB     670 kB     670 kB     670 kB     670 kB     680 kB     680 kB     700 kB     700 kB     700 kB     700 kB     720 kB     720 kB     730 kB     730 kB     730 kB     730 kB     730 kB     730 kB     750 kB     750 kB     770 kB     770 kB     770 kB     770 kB     770 kB     770 kB     780 kB     780 kB     780 kB     780 kB     780 kB     780 kB     780 kB     780 kB     800 kB     800 kB     800 kB     800 kB     810 kB     810 kB     830 kB     830 kB     830 kB     830 kB     850 kB     850 kB     850 kB     850 kB     860 kB     860 kB     880 kB     880 kB     880 kB     880 kB     880 kB     880 kB     880 kB     880 kB     900 kB     900 kB     900 kB     900 kB     910 kB     910 kB     930 kB     930 kB     950 kB     950 kB     960 kB     960 kB     960 kB     960 kB     960 kB     960 kB     960 kB     960 kB     980 kB     980 kB     990 kB     990 kB     1 MB     1 MB     1 MB     1 MB     1 MB     1 MB     1 MB     1 MB     1 MB     1 MB     1 MB     1 MB     1 MB     1 MB     1.1 MB     1.1 MB     1.1 MB     1.1 MB     1.1 MB     1.1 MB     1.1 MB     1.1 MB     1.1 MB     1.1 MB     1.1 MB     1.1 MB     1.1 MB     1.1 MB     1.1 MB     1.1 MB     1.1 MB     1.1 MB     1.1 MB     1.1 MB     1.1 MB     1.1 MB     1.1 MB     1.1 MB     1.1 MB     1.1 MB     1.2 MB     1.2 MB     1.2 MB     1.2 MB     1.2 MB     1.2 MB     1.2 MB     1.2 MB     1.2 MB     1.2 MB     1.2 MB     1.2 MB     1.2 MB     1.2 MB     1.2 MB     1.2 MB     1.3 MB     1.3 MB     1.3 MB     1.3 MB     1.3 MB     1.3 MB     1.3 MB     1.3 MB     1.3 MB     1.3 MB     1.3 MB     1.3 MB     1.3 MB     1.3 MB     1.3 MB     1.3 MB     1.3 MB     1.3 MB     1.3 MB     1.3 MB     1.3 MB     1.3 MB     1.3 MB     1.3 MB     1.4 MB     1.4 MB     1.4 MB     1.4 MB     1.4 MB     1.4 MB     1.4 MB     1.4 MB     1.4 MB     1.4 MB     1.4 MB     1.4 MB     1.4 MB     1.4 MB     1.4 MB     1.4 MB     1.4 MB     1.4 MB     1.4 MB     1.4 MB     1.4 MB     1.4 MB     1.4 MB     1.4 MB     1.5 MB     1.5 MB     1.5 MB     1.5 MB     1.5 MB     1.5 MB     1.5 MB     1.5 MB     1.5 MB     1.5 MB     1.5 MB     1.5 MB     1.5 MB     1.5 MB     1.5 MB     1.5 MB     1.5 MB     1.5 MB     1.5 MB     1.5 MB     1.5 MB     1.5 MB     1.5 MB     1.5 MB     1.6 MB     1.6 MB     1.6 MB     1.6 MB     1.6 MB     1.6 MB     1.6 MB     1.6 MB     1.6 MB     1.6 MB     1.6 MB     1.6 MB     \n",
      "  |======================================================================| 100%\n",
      "  |======================================================================| 100%\n",
      "  |======================================================================| 100%\n",
      "  |======================================================================| 100%\n",
      "  |======================================================================| 100%\n",
      "  |======================================================================| 100%\n",
      "  |======================================================================| 100%\n",
      "  |======================================================================| 100%\n",
      "  |======================================================================| 100%\n",
      "  |======================================================================| 100%\n",
      "  |======================================================================| 100%\n",
      "  |======================================================================| 100%\n",
      "  |======================================================================| 100%\n",
      "  |======================================================================| 100%\n",
      "  |======================================================================| 100%\n",
      "  |======================================================================| 100%\n",
      "  |======================================================================| 100%\n",
      "  |======================================================================| 100%\n",
      "  |======================================================================| 100%\n",
      "  |======================================================================| 100%\n",
      "  |======================================================================| 100%\n",
      "  |======================================================================| 100%\n",
      "  |======================================================================| 100%\n",
      "  |======================================================================| 100%\n",
      "  |======================================================================| 100%\n",
      "  |======================================================================| 100%\n",
      "  |======================================================================| 100%\n",
      "  |======================================================================| 100%\n",
      "  |======================================================================| 100%\n",
      "  |======================================================================| 100%\n",
      "  |======================================================================| 100%\n",
      "Simple feature collection with 168800 features and 5 fields (with 588 geometries empty)\n",
      "Geometry type: GEOMETRY\n",
      "Dimension:     XY\n",
      "Bounding box:  xmin: -179.1467 ymin: 18.91036 xmax: 179.7785 ymax: 71.38782\n",
      "Geodetic CRS:  NAD83\n",
      "First 10 features:\n",
      "         GEOID                                           NAME  variable\n",
      "1  01089003100       Census Tract 31; Madison County; Alabama total_pop\n",
      "2  01089003100       Census Tract 31; Madison County; Alabama     white\n",
      "3  01089000501     Census Tract 5.01; Madison County; Alabama total_pop\n",
      "4  01089000501     Census Tract 5.01; Madison County; Alabama     white\n",
      "5  01089011021   Census Tract 110.21; Madison County; Alabama total_pop\n",
      "6  01089011021   Census Tract 110.21; Madison County; Alabama     white\n",
      "7  01095031200     Census Tract 312; Marshall County; Alabama total_pop\n",
      "8  01095031200     Census Tract 312; Marshall County; Alabama     white\n",
      "9  01073012401 Census Tract 124.01; Jefferson County; Alabama total_pop\n",
      "10 01073012401 Census Tract 124.01; Jefferson County; Alabama     white\n",
      "   estimate moe                       geometry\n",
      "1      4811 391 MULTIPOLYGON (((-86.59811 3...\n",
      "2      3009 340 MULTIPOLYGON (((-86.59811 3...\n",
      "3      2459 604 MULTIPOLYGON (((-86.65703 3...\n",
      "4       262  57 MULTIPOLYGON (((-86.65703 3...\n",
      "5      4635 642 MULTIPOLYGON (((-86.78678 3...\n",
      "6      3184 651 MULTIPOLYGON (((-86.78678 3...\n",
      "7      5726 523 MULTIPOLYGON (((-86.17402 3...\n",
      "8      4388 677 MULTIPOLYGON (((-86.17402 3...\n",
      "9      3639 505 MULTIPOLYGON (((-86.90739 3...\n",
      "10      123  81 MULTIPOLYGON (((-86.90739 3...\n"
     ]
    },
    {
     "data": {
      "text/plain": [
       "Getting data from the 2019-2023 5-year ACS\n",
       "Using FIPS code '01' for state 'AL'\n",
       "Getting data from the 2019-2023 5-year ACS\n",
       "Using FIPS code '02' for state 'AK'\n",
       "Getting data from the 2019-2023 5-year ACS\n",
       "Using FIPS code '04' for state 'AZ'\n",
       "Getting data from the 2019-2023 5-year ACS\n",
       "Using FIPS code '05' for state 'AR'\n",
       "Getting data from the 2019-2023 5-year ACS\n",
       "Using FIPS code '06' for state 'CA'\n",
       "Getting data from the 2019-2023 5-year ACS\n",
       "Using FIPS code '08' for state 'CO'\n",
       "Getting data from the 2019-2023 5-year ACS\n",
       "Using FIPS code '09' for state 'CT'\n",
       "Getting data from the 2019-2023 5-year ACS\n",
       "Using FIPS code '10' for state 'DE'\n",
       "Getting data from the 2019-2023 5-year ACS\n",
       "Using FIPS code '11' for state 'DC'\n",
       "Getting data from the 2019-2023 5-year ACS\n",
       "Using FIPS code '12' for state 'FL'\n",
       "Getting data from the 2019-2023 5-year ACS\n",
       "Using FIPS code '13' for state 'GA'\n",
       "Getting data from the 2019-2023 5-year ACS\n",
       "Using FIPS code '15' for state 'HI'\n",
       "Getting data from the 2019-2023 5-year ACS\n",
       "Using FIPS code '16' for state 'ID'\n",
       "Getting data from the 2019-2023 5-year ACS\n",
       "Using FIPS code '17' for state 'IL'\n",
       "Getting data from the 2019-2023 5-year ACS\n",
       "Using FIPS code '18' for state 'IN'\n",
       "Getting data from the 2019-2023 5-year ACS\n",
       "Using FIPS code '19' for state 'IA'\n",
       "Getting data from the 2019-2023 5-year ACS\n",
       "Using FIPS code '20' for state 'KS'\n",
       "Getting data from the 2019-2023 5-year ACS\n",
       "Using FIPS code '21' for state 'KY'\n",
       "Getting data from the 2019-2023 5-year ACS\n",
       "Using FIPS code '22' for state 'LA'\n",
       "Getting data from the 2019-2023 5-year ACS\n",
       "Using FIPS code '23' for state 'ME'\n",
       "Getting data from the 2019-2023 5-year ACS\n",
       "Using FIPS code '24' for state 'MD'\n",
       "Getting data from the 2019-2023 5-year ACS\n",
       "Using FIPS code '25' for state 'MA'\n",
       "Getting data from the 2019-2023 5-year ACS\n",
       "Using FIPS code '26' for state 'MI'\n",
       "Getting data from the 2019-2023 5-year ACS\n",
       "Using FIPS code '27' for state 'MN'\n",
       "Getting data from the 2019-2023 5-year ACS\n",
       "Using FIPS code '28' for state 'MS'\n",
       "Getting data from the 2019-2023 5-year ACS\n",
       "Using FIPS code '29' for state 'MO'\n",
       "Getting data from the 2019-2023 5-year ACS\n",
       "Using FIPS code '30' for state 'MT'\n",
       "Getting data from the 2019-2023 5-year ACS\n",
       "Using FIPS code '31' for state 'NE'\n",
       "Getting data from the 2019-2023 5-year ACS\n",
       "Using FIPS code '32' for state 'NV'\n",
       "Getting data from the 2019-2023 5-year ACS\n",
       "Using FIPS code '33' for state 'NH'\n",
       "Getting data from the 2019-2023 5-year ACS\n",
       "Using FIPS code '34' for state 'NJ'\n",
       "Getting data from the 2019-2023 5-year ACS\n",
       "Using FIPS code '35' for state 'NM'\n",
       "Getting data from the 2019-2023 5-year ACS\n",
       "Using FIPS code '36' for state 'NY'\n",
       "Getting data from the 2019-2023 5-year ACS\n",
       "Using FIPS code '37' for state 'NC'\n",
       "Getting data from the 2019-2023 5-year ACS\n",
       "Using FIPS code '38' for state 'ND'\n",
       "Getting data from the 2019-2023 5-year ACS\n",
       "Using FIPS code '39' for state 'OH'\n",
       "Getting data from the 2019-2023 5-year ACS\n",
       "Using FIPS code '40' for state 'OK'\n",
       "Getting data from the 2019-2023 5-year ACS\n",
       "Using FIPS code '41' for state 'OR'\n",
       "Getting data from the 2019-2023 5-year ACS\n",
       "Using FIPS code '42' for state 'PA'\n",
       "Getting data from the 2019-2023 5-year ACS\n",
       "Using FIPS code '44' for state 'RI'\n",
       "Getting data from the 2019-2023 5-year ACS\n",
       "Using FIPS code '45' for state 'SC'\n",
       "Getting data from the 2019-2023 5-year ACS\n",
       "Using FIPS code '46' for state 'SD'\n",
       "Getting data from the 2019-2023 5-year ACS\n",
       "Using FIPS code '47' for state 'TN'\n",
       "Getting data from the 2019-2023 5-year ACS\n",
       "Using FIPS code '48' for state 'TX'\n",
       "Getting data from the 2019-2023 5-year ACS\n",
       "Using FIPS code '49' for state 'UT'\n",
       "Getting data from the 2019-2023 5-year ACS\n",
       "Using FIPS code '50' for state 'VT'\n",
       "Getting data from the 2019-2023 5-year ACS\n",
       "Using FIPS code '51' for state 'VA'\n",
       "Getting data from the 2019-2023 5-year ACS\n",
       "Using FIPS code '53' for state 'WA'\n",
       "Getting data from the 2019-2023 5-year ACS\n",
       "Using FIPS code '54' for state 'WV'\n",
       "Getting data from the 2019-2023 5-year ACS\n",
       "Using FIPS code '55' for state 'WI'\n",
       "Getting data from the 2019-2023 5-year ACS\n",
       "Using FIPS code '56' for state 'WY'\n"
      ]
     },
     "metadata": {},
     "output_type": "display_data"
    }
   ],
   "source": [
    "%%R \n",
    "\n",
    "# I consult chatgpt for this part\n",
    "library(purrr)\n",
    "\n",
    "# Get the list of all state abbreviations\n",
    "states <- unique(tidycensus::fips_codes$state)[1:51]  # 50 states + DC\n",
    "\n",
    "# Function to get data for one state\n",
    "get_state_tracts <- function(state) {\n",
    "  get_acs(\n",
    "    geography = \"tract\",\n",
    "    variables = c(\n",
    "      total_pop = \"B02001_001\",\n",
    "      white = \"B02001_002\"\n",
    "    ),\n",
    "    year = 2023,\n",
    "    survey = \"acs5\",\n",
    "    geometry = TRUE,\n",
    "    state = state\n",
    "  )\n",
    "}\n",
    "\n",
    "# Loop over all states and combine the results\n",
    "census_data <- map_dfr(states, get_state_tracts)\n",
    "\n",
    "# View data\n",
    "census_data"
   ]
  },
  {
   "cell_type": "code",
   "execution_count": 73,
   "id": "ad505ee4",
   "metadata": {},
   "outputs": [
    {
     "name": "stdout",
     "output_type": "stream",
     "text": [
      "Writing layer `census_data' to data source \n",
      "  `census_data.geojson' using driver `GeoJSON'\n",
      "Writing 168800 features with 5 fields and geometry type Unknown (any).\n",
      "Writing layer `census_data' to data source \n",
      "  `census_data.shp' using driver `ESRI Shapefile'\n",
      "Writing 168800 features with 5 fields and geometry type Unknown (any).\n"
     ]
    },
    {
     "data": {
      "text/plain": [
       "Linking to GEOS 3.11.0, GDAL 3.5.3, PROJ 9.1.0; sf_use_s2() is TRUE\n"
      ]
     },
     "metadata": {},
     "output_type": "display_data"
    }
   ],
   "source": [
    "%%R \n",
    "\n",
    "library(sf)\n",
    "\n",
    "# Save as GeoJSON\n",
    "st_write(census_data, \"census_data.geojson\")\n",
    "\n",
    "# Or save as ESRI Shapefile\n",
    "st_write(census_data, \"census_data.shp\")\n"
   ]
  },
  {
   "cell_type": "code",
   "execution_count": 74,
   "id": "0c92ea99",
   "metadata": {},
   "outputs": [
    {
     "name": "stdout",
     "output_type": "stream",
     "text": [
      "Simple feature collection with 84400 features and 6 fields (with 294 geometries empty)\n",
      "Geometry type: GEOMETRY\n",
      "Dimension:     XY\n",
      "Bounding box:  xmin: -179.1467 ymin: 18.91036 xmax: 179.7785 ymax: 71.38782\n",
      "Geodetic CRS:  NAD83\n",
      "# A tibble: 84,400 × 7\n",
      "   GEOID       NAME                   geometry total_pop_estimate white_estimate\n",
      "   <chr>       <chr>        <MULTIPOLYGON [°]>              <dbl>          <dbl>\n",
      " 1 01089003100 Cens… (((-86.59811 34.74094, -…               4811           3009\n",
      " 2 01089000501 Cens… (((-86.65703 34.77881, -…               2459            262\n",
      " 3 01089011021 Cens… (((-86.78678 34.67045, -…               4635           3184\n",
      " 4 01095031200 Cens… (((-86.17402 34.23036, -…               5726           4388\n",
      " 5 01073012401 Cens… (((-86.90739 33.57447, -…               3639            123\n",
      " 6 01073003400 Cens… (((-86.91104 33.50274, -…               1989             41\n",
      " 7 01073003001 Cens… (((-86.87246 33.51363, -…               3408           1507\n",
      " 8 01073010402 Cens… (((-86.99094 33.37425, -…               2416            486\n",
      " 9 01073005101 Cens… (((-86.83959 33.49663, -…                861             43\n",
      "10 01073010603 Cens… (((-86.9295 33.47472, -8…               1847             63\n",
      "# ℹ 84,390 more rows\n",
      "# ℹ 2 more variables: total_pop_moe <dbl>, white_moe <dbl>\n",
      "# ℹ Use `print(n = ...)` to see more rows\n"
     ]
    }
   ],
   "source": [
    "%%R \n",
    "\n",
    "\n",
    "census_data <- census_data %>% \n",
    "  pivot_wider(\n",
    "    names_from=variable, \n",
    "    values_from = c(estimate, moe),\n",
    "    names_glue = \"{variable}_{.value}\"\n",
    "  ) # pivot from wide to long\n",
    "\n",
    "census_data"
   ]
  },
  {
   "cell_type": "code",
   "execution_count": 77,
   "id": "a12134af",
   "metadata": {},
   "outputs": [
    {
     "name": "stdout",
     "output_type": "stream",
     "text": [
      "Simple feature collection with 84400 features and 7 fields (with 294 geometries empty)\n",
      "Geometry type: GEOMETRY\n",
      "Dimension:     XY\n",
      "Bounding box:  xmin: -179.1467 ymin: 18.91036 xmax: 179.7785 ymax: 71.38782\n",
      "Geodetic CRS:  NAD83\n",
      "# A tibble: 84,400 × 8\n",
      "   GEOID       NAME                   geometry total_pop_estimate white_estimate\n",
      " * <chr>       <chr>        <MULTIPOLYGON [°]>              <dbl>          <dbl>\n",
      " 1 01089003100 Cens… (((-86.59811 34.74094, -…               4811           3009\n",
      " 2 01089000501 Cens… (((-86.65703 34.77881, -…               2459            262\n",
      " 3 01089011021 Cens… (((-86.78678 34.67045, -…               4635           3184\n",
      " 4 01095031200 Cens… (((-86.17402 34.23036, -…               5726           4388\n",
      " 5 01073012401 Cens… (((-86.90739 33.57447, -…               3639            123\n",
      " 6 01073003400 Cens… (((-86.91104 33.50274, -…               1989             41\n",
      " 7 01073003001 Cens… (((-86.87246 33.51363, -…               3408           1507\n",
      " 8 01073010402 Cens… (((-86.99094 33.37425, -…               2416            486\n",
      " 9 01073005101 Cens… (((-86.83959 33.49663, -…                861             43\n",
      "10 01073010603 Cens… (((-86.9295 33.47472, -8…               1847             63\n",
      "# ℹ 84,390 more rows\n",
      "# ℹ 3 more variables: total_pop_moe <dbl>, white_moe <dbl>, non_white_pct <dbl>\n",
      "# ℹ Use `print(n = ...)` to see more rows\n"
     ]
    }
   ],
   "source": [
    "%%R \n",
    "\n",
    "census_data <- census_data %>%\n",
    "mutate(\n",
    "  non_white_pct = ((total_pop_estimate - white_estimate) / total_pop_estimate) * 100\n",
    ")\n",
    "\n",
    "census_data"
   ]
  },
  {
   "cell_type": "code",
   "execution_count": 83,
   "id": "b2e7eec1",
   "metadata": {},
   "outputs": [
    {
     "name": "stdout",
     "output_type": "stream",
     "text": [
      "Writing layer `census_data2' to data source \n",
      "  `census_data2.geojson' using driver `GeoJSON'\n",
      "Writing 84400 features with 7 fields and geometry type Unknown (any).\n"
     ]
    }
   ],
   "source": [
    "%%R \n",
    "\n",
    "st_write(census_data, \"census_data2.geojson\")\n"
   ]
  },
  {
   "cell_type": "code",
   "execution_count": 95,
   "id": "9678d8e4",
   "metadata": {},
   "outputs": [],
   "source": [
    "import pandas as pd\n",
    "import geopandas as gpd\n",
    "from shapely.geometry import Point\n",
    "\n",
    "df = trash\n",
    "\n",
    "geometry = [Point(xy) for xy in zip(df[\"Longitude\"], df[\"Latitude\"])]\n",
    "\n",
    "gdf = gpd.GeoDataFrame(df, geometry=geometry)\n",
    "\n",
    "# Set CRS (coordinate reference system) to WGS84 (EPSG:4326)\n",
    "gdf.set_crs(epsg=4326, inplace=True)\n",
    "\n",
    "# Save to GeoJSON\n",
    "gdf.to_file(\"landfills.geojson\", driver=\"GeoJSON\")\n"
   ]
  },
  {
   "cell_type": "markdown",
   "id": "ee73e458",
   "metadata": {},
   "source": [
    "# 14.46% of the landfills fall within tracts with non-white majority"
   ]
  },
  {
   "cell_type": "code",
   "execution_count": 96,
   "id": "27f99987",
   "metadata": {},
   "outputs": [
    {
     "name": "stdout",
     "output_type": "stream",
     "text": [
      "Probability: 14.46%\n"
     ]
    }
   ],
   "source": [
    "import geopandas as gpd\n",
    "\n",
    "tracts = gpd.read_file(\"census_data2.geojson\")  # must include non-white % and geometry\n",
    "landfills = gpd.read_file(\"landfills.geojson\")   # must include geometry (Point)\n",
    "\n",
    "# Make sure CRS matches\n",
    "landfills = landfills.to_crs(tracts.crs)\n",
    "\n",
    "# Step 3: Spatial join\n",
    "joined = gpd.sjoin(landfills, tracts, how=\"left\", predicate=\"intersects\")\n",
    "\n",
    "# Step 4: Filter for tracts with >50% non-white population\n",
    "landfills_in_majority_nonwhite = joined[joined[\"non_white_pct\"] > 50]\n",
    "\n",
    "# Step 5: Calculate probability\n",
    "probability = len(landfills_in_majority_nonwhite) / len(landfills)\n",
    "\n",
    "print(f\"Probability: {probability:.2%}\")\n"
   ]
  },
  {
   "cell_type": "markdown",
   "id": "2eb81e21",
   "metadata": {},
   "source": [
    "# RR < 1: landfills are less likely in majority non-white tracts."
   ]
  },
  {
   "cell_type": "code",
   "execution_count": 97,
   "id": "38180ab6",
   "metadata": {},
   "outputs": [
    {
     "name": "stdout",
     "output_type": "stream",
     "text": [
      "Relative Risk: 0.49\n"
     ]
    }
   ],
   "source": [
    "\n",
    "landfills_in_tracts = gpd.sjoin(landfills, tracts, how=\"left\", predicate=\"intersects\")\n",
    "\n",
    "landfill_counts = landfills_in_tracts.groupby(\"index_right\").size()\n",
    "\n",
    "tracts[\"has_landfill\"] = tracts.index.map(landfill_counts).fillna(0) > 0\n",
    "\n",
    "tracts[\"majority_nonwhite\"] = tracts[\"non_white_pct\"] > 50\n",
    "\n",
    "contingency = pd.crosstab(tracts[\"majority_nonwhite\"], tracts[\"has_landfill\"])\n",
    "\n",
    "# Extract counts\n",
    "A = contingency.loc[True, True]   # Non-white tract with landfill\n",
    "B = contingency.loc[True, False]  # Non-white tract without landfill\n",
    "C = contingency.loc[False, True]  # White tract with landfill\n",
    "D = contingency.loc[False, False] # White tract without landfill\n",
    "\n",
    "\n",
    "RR = (A / (A + B)) / (C / (C + D))\n",
    "print(f\"Relative Risk: {RR:.2f}\")\n"
   ]
  },
  {
   "cell_type": "markdown",
   "id": "12baa9f7",
   "metadata": {},
   "source": [
    "# Find the nearest neighbourhood to each landfill"
   ]
  },
  {
   "cell_type": "code",
   "execution_count": 118,
   "id": "f63ad282",
   "metadata": {},
   "outputs": [
    {
     "data": {
      "text/plain": [
       "True"
      ]
     },
     "execution_count": 118,
     "metadata": {},
     "output_type": "execute_result"
    }
   ],
   "source": [
    "import requests\n",
    "from dotenv import load_dotenv\n",
    "import os\n",
    "\n",
    "load_dotenv()"
   ]
  },
  {
   "cell_type": "code",
   "execution_count": 119,
   "id": "7fb3b8f1",
   "metadata": {},
   "outputs": [],
   "source": [
    "import requests\n",
    "\n",
    "def reverse_geocode(lat, lon):\n",
    "    api_key = 'Google_API_KEY' \n",
    "    url = f'https://maps.googleapis.com/maps/api/geocode/json?latlng={lat},{lon}&key={api_key}'\n",
    "    \n",
    "    response = requests.get(url)\n",
    "    result = response.json()\n",
    "\n",
    "    if response.status_code == 200 and result['status'] == 'OK':\n",
    "        # Extract the neighborhood from the result\n",
    "        for component in result['results'][0]['address_components']:\n",
    "            if 'neighborhood' in component['types']:\n",
    "                return component['long_name']\n",
    "        return \"Neighborhood not found.\"\n",
    "    else:\n",
    "        return \"Error: Unable to get the address.\"\n"
   ]
  },
  {
   "cell_type": "code",
   "execution_count": 120,
   "id": "d4e23873",
   "metadata": {},
   "outputs": [
    {
     "name": "stdout",
     "output_type": "stream",
     "text": [
      "The neighborhood is: Error: Unable to get the address.\n"
     ]
    }
   ],
   "source": [
    "\n",
    "latitude = 40.7128\n",
    "longitude = -74.0060\n",
    "neighborhood = reverse_geocode(latitude, longitude)\n",
    "print(f\"The neighborhood is: {neighborhood}\")"
   ]
  },
  {
   "cell_type": "markdown",
   "id": "f8a83f14",
   "metadata": {},
   "source": [
    "# Look at California landfills"
   ]
  },
  {
   "cell_type": "code",
   "execution_count": 4,
   "id": "f37207ae",
   "metadata": {},
   "outputs": [
    {
     "data": {
      "text/html": [
       "<div>\n",
       "<style scoped>\n",
       "    .dataframe tbody tr th:only-of-type {\n",
       "        vertical-align: middle;\n",
       "    }\n",
       "\n",
       "    .dataframe tbody tr th {\n",
       "        vertical-align: top;\n",
       "    }\n",
       "\n",
       "    .dataframe thead th {\n",
       "        text-align: right;\n",
       "    }\n",
       "</style>\n",
       "<table border=\"1\" class=\"dataframe\">\n",
       "  <thead>\n",
       "    <tr style=\"text-align: right;\">\n",
       "      <th></th>\n",
       "      <th>GHGRP ID</th>\n",
       "      <th>Landfill ID</th>\n",
       "      <th>Landfill Name</th>\n",
       "      <th>State</th>\n",
       "      <th>Landfill Alias</th>\n",
       "      <th>Physical Address</th>\n",
       "      <th>City</th>\n",
       "      <th>County</th>\n",
       "      <th>Zip Code</th>\n",
       "      <th>Latitude</th>\n",
       "      <th>...</th>\n",
       "      <th>LFG Collected (mmscfd)</th>\n",
       "      <th>LFG Collected Year</th>\n",
       "      <th>Percent Methane</th>\n",
       "      <th>Flares in Place?</th>\n",
       "      <th>Number of Flares</th>\n",
       "      <th>LFG Flared (mmscfd)</th>\n",
       "      <th>LFG Flared Year</th>\n",
       "      <th>Number of Wells</th>\n",
       "      <th>GCCS Capacity (cfm)</th>\n",
       "      <th>Passive Venting/Flaring?</th>\n",
       "    </tr>\n",
       "  </thead>\n",
       "  <tbody>\n",
       "    <tr>\n",
       "      <th>0</th>\n",
       "      <td>1007341.0</td>\n",
       "      <td>1994</td>\n",
       "      <td>Anchorage Regional Landfill</td>\n",
       "      <td>AK</td>\n",
       "      <td>NaN</td>\n",
       "      <td>15500 E. Eagle River Loop Road</td>\n",
       "      <td>Eagle River</td>\n",
       "      <td>Anchorage</td>\n",
       "      <td>99577</td>\n",
       "      <td>61.293281</td>\n",
       "      <td>...</td>\n",
       "      <td>4.066</td>\n",
       "      <td>2022.0</td>\n",
       "      <td>50.7</td>\n",
       "      <td>Yes</td>\n",
       "      <td>1.0</td>\n",
       "      <td>1.915</td>\n",
       "      <td>2022.0</td>\n",
       "      <td>111.0</td>\n",
       "      <td>2000.0</td>\n",
       "      <td>No</td>\n",
       "    </tr>\n",
       "    <tr>\n",
       "      <th>1</th>\n",
       "      <td>1010389.0</td>\n",
       "      <td>11941</td>\n",
       "      <td>Capitol Disposal Landfill</td>\n",
       "      <td>AK</td>\n",
       "      <td>NaN</td>\n",
       "      <td>5600 Tonsgard Court</td>\n",
       "      <td>Juneau</td>\n",
       "      <td>Juneau</td>\n",
       "      <td>99801</td>\n",
       "      <td>58.352800</td>\n",
       "      <td>...</td>\n",
       "      <td>0.614</td>\n",
       "      <td>2022.0</td>\n",
       "      <td>27.6</td>\n",
       "      <td>Yes</td>\n",
       "      <td>1.0</td>\n",
       "      <td>0.614</td>\n",
       "      <td>2022.0</td>\n",
       "      <td>48.0</td>\n",
       "      <td>1300.0</td>\n",
       "      <td>No</td>\n",
       "    </tr>\n",
       "    <tr>\n",
       "      <th>2</th>\n",
       "      <td>1005349.0</td>\n",
       "      <td>12216</td>\n",
       "      <td>Central Peninsula Landfill (CPL)</td>\n",
       "      <td>AK</td>\n",
       "      <td>Soldotna Landfill; Central Peninsula Baling Fa...</td>\n",
       "      <td>46915 Sterling Highway</td>\n",
       "      <td>Soldotna</td>\n",
       "      <td>Kenai Peninsula</td>\n",
       "      <td>99669</td>\n",
       "      <td>60.443004</td>\n",
       "      <td>...</td>\n",
       "      <td>NaN</td>\n",
       "      <td>NaN</td>\n",
       "      <td>NaN</td>\n",
       "      <td>No</td>\n",
       "      <td>NaN</td>\n",
       "      <td>NaN</td>\n",
       "      <td>NaN</td>\n",
       "      <td>NaN</td>\n",
       "      <td>NaN</td>\n",
       "      <td>Yes</td>\n",
       "    </tr>\n",
       "    <tr>\n",
       "      <th>3</th>\n",
       "      <td>NaN</td>\n",
       "      <td>10960</td>\n",
       "      <td>Kodiak Island Borough Landfill</td>\n",
       "      <td>AK</td>\n",
       "      <td>NaN</td>\n",
       "      <td>1203 Monashka Bay Road</td>\n",
       "      <td>Kodiak</td>\n",
       "      <td>Kodiak Island</td>\n",
       "      <td>99615</td>\n",
       "      <td>57.808740</td>\n",
       "      <td>...</td>\n",
       "      <td>NaN</td>\n",
       "      <td>NaN</td>\n",
       "      <td>NaN</td>\n",
       "      <td>Unknown</td>\n",
       "      <td>NaN</td>\n",
       "      <td>NaN</td>\n",
       "      <td>NaN</td>\n",
       "      <td>NaN</td>\n",
       "      <td>NaN</td>\n",
       "      <td>Unknown</td>\n",
       "    </tr>\n",
       "    <tr>\n",
       "      <th>4</th>\n",
       "      <td>1004380.0</td>\n",
       "      <td>11020</td>\n",
       "      <td>Merrill Field Landfill</td>\n",
       "      <td>AK</td>\n",
       "      <td>NaN</td>\n",
       "      <td>800 Merrill Field Drive</td>\n",
       "      <td>Anchorage</td>\n",
       "      <td>Anchorage</td>\n",
       "      <td>99501</td>\n",
       "      <td>61.212660</td>\n",
       "      <td>...</td>\n",
       "      <td>0.117</td>\n",
       "      <td>2022.0</td>\n",
       "      <td>35.6</td>\n",
       "      <td>Yes</td>\n",
       "      <td>1.0</td>\n",
       "      <td>0.117</td>\n",
       "      <td>2022.0</td>\n",
       "      <td>30.0</td>\n",
       "      <td>500.0</td>\n",
       "      <td>No</td>\n",
       "    </tr>\n",
       "  </tbody>\n",
       "</table>\n",
       "<p>5 rows × 42 columns</p>\n",
       "</div>"
      ],
      "text/plain": [
       "    GHGRP ID  Landfill ID                     Landfill Name State  \\\n",
       "0  1007341.0         1994       Anchorage Regional Landfill    AK   \n",
       "1  1010389.0        11941         Capitol Disposal Landfill    AK   \n",
       "2  1005349.0        12216  Central Peninsula Landfill (CPL)    AK   \n",
       "3        NaN        10960    Kodiak Island Borough Landfill    AK   \n",
       "4  1004380.0        11020            Merrill Field Landfill    AK   \n",
       "\n",
       "                                      Landfill Alias  \\\n",
       "0                                                NaN   \n",
       "1                                                NaN   \n",
       "2  Soldotna Landfill; Central Peninsula Baling Fa...   \n",
       "3                                                NaN   \n",
       "4                                                NaN   \n",
       "\n",
       "                 Physical Address         City           County Zip Code  \\\n",
       "0  15500 E. Eagle River Loop Road  Eagle River        Anchorage    99577   \n",
       "1             5600 Tonsgard Court       Juneau           Juneau    99801   \n",
       "2          46915 Sterling Highway     Soldotna  Kenai Peninsula    99669   \n",
       "3          1203 Monashka Bay Road       Kodiak    Kodiak Island    99615   \n",
       "4         800 Merrill Field Drive    Anchorage        Anchorage    99501   \n",
       "\n",
       "    Latitude  ...  LFG Collected (mmscfd) LFG Collected Year Percent Methane  \\\n",
       "0  61.293281  ...                   4.066             2022.0            50.7   \n",
       "1  58.352800  ...                   0.614             2022.0            27.6   \n",
       "2  60.443004  ...                     NaN                NaN             NaN   \n",
       "3  57.808740  ...                     NaN                NaN             NaN   \n",
       "4  61.212660  ...                   0.117             2022.0            35.6   \n",
       "\n",
       "  Flares in Place? Number of Flares  LFG Flared (mmscfd)  LFG Flared Year  \\\n",
       "0              Yes              1.0                1.915           2022.0   \n",
       "1              Yes              1.0                0.614           2022.0   \n",
       "2               No              NaN                  NaN              NaN   \n",
       "3          Unknown              NaN                  NaN              NaN   \n",
       "4              Yes              1.0                0.117           2022.0   \n",
       "\n",
       "  Number of Wells  GCCS Capacity (cfm)  Passive Venting/Flaring?  \n",
       "0           111.0               2000.0                        No  \n",
       "1            48.0               1300.0                        No  \n",
       "2             NaN                  NaN                       Yes  \n",
       "3             NaN                  NaN                   Unknown  \n",
       "4            30.0                500.0                        No  \n",
       "\n",
       "[5 rows x 42 columns]"
      ]
     },
     "execution_count": 4,
     "metadata": {},
     "output_type": "execute_result"
    }
   ],
   "source": [
    "trash.head()"
   ]
  },
  {
   "cell_type": "code",
   "execution_count": 169,
   "id": "58ba92ac",
   "metadata": {},
   "outputs": [
    {
     "data": {
      "text/plain": [
       "0.9063885769646911"
      ]
     },
     "execution_count": 169,
     "metadata": {},
     "output_type": "execute_result"
    }
   ],
   "source": [
    "# percentage of methane collected in California\n",
    "CA = trash[trash['State']=='CA']\n",
    "sum_CA = CA['total_methane'].sum()\n",
    "sum_CA_collect = CA['total_methane_collected'].sum()\n",
    "pct_collected_CA = sum_CA_collect/sum_CA\n",
    "pct_collected_CA"
   ]
  },
  {
   "cell_type": "code",
   "execution_count": 146,
   "id": "3333e1f9",
   "metadata": {},
   "outputs": [
    {
     "data": {
      "text/plain": [
       "54984.659595000005"
      ]
     },
     "execution_count": 146,
     "metadata": {},
     "output_type": "execute_result"
    }
   ],
   "source": [
    "CA['total_methane'].sum()"
   ]
  },
  {
   "cell_type": "code",
   "execution_count": 144,
   "id": "3076df12",
   "metadata": {},
   "outputs": [],
   "source": [
    "CA.to_csv('CA_landfills.csv')"
   ]
  },
  {
   "cell_type": "code",
   "execution_count": 5,
   "id": "aab18be1",
   "metadata": {},
   "outputs": [],
   "source": [
    "CA = pd.read_csv('CA_landfills.csv')"
   ]
  },
  {
   "cell_type": "markdown",
   "id": "5a1e424a",
   "metadata": {},
   "source": [
    "# Year of Closure"
   ]
  },
  {
   "cell_type": "code",
   "execution_count": 49,
   "id": "d9bb5f03",
   "metadata": {},
   "outputs": [],
   "source": [
    "CA_LF_years = CA[['Landfill Name', 'Year Landfill Opened','Landfill Closure Year']]\n",
    "CA_LF_years['Year Landfill Opened'] = CA_LF_years['Year Landfill Opened'].fillna(1900)\n",
    "CA_LF_years['Landfill Closure Year'] = CA_LF_years['Landfill Closure Year'].dropna()\n",
    "\n",
    "CA_LF_years.to_clipboard()"
   ]
  },
  {
   "cell_type": "code",
   "execution_count": 50,
   "id": "8fd07bfd",
   "metadata": {},
   "outputs": [
    {
     "name": "stdout",
     "output_type": "stream",
     "text": [
      "<class 'pandas.core.frame.DataFrame'>\n",
      "Index: 110 entries, 3 to 294\n",
      "Data columns (total 3 columns):\n",
      " #   Column                 Non-Null Count  Dtype  \n",
      "---  ------                 --------------  -----  \n",
      " 0   Landfill Name          110 non-null    object \n",
      " 1   Year Landfill Opened   110 non-null    float64\n",
      " 2   Landfill Closure Year  110 non-null    float64\n",
      "dtypes: float64(2), object(1)\n",
      "memory usage: 3.4+ KB\n"
     ]
    }
   ],
   "source": [
    "CA_LF_years[(CA_LF_years['Landfill Closure Year'] >= 2025) & (CA_LF_years['Landfill Closure Year'] != 3000)].info()\n"
   ]
  },
  {
   "cell_type": "markdown",
   "id": "d32bb24c",
   "metadata": {},
   "source": [
    "# Texas percentage of methane collected"
   ]
  },
  {
   "cell_type": "code",
   "execution_count": 168,
   "id": "d3c6d545",
   "metadata": {},
   "outputs": [
    {
     "data": {
      "text/plain": [
       "0.6133899340183679"
      ]
     },
     "execution_count": 168,
     "metadata": {},
     "output_type": "execute_result"
    }
   ],
   "source": [
    "TX = trash[trash['State']=='TX']\n",
    "sum_tx = TX['total_methane'].sum()\n",
    "sum_tx_collect = TX['total_methane_collected'].sum()\n",
    "pct_collected_tx = sum_tx_collect/sum_tx\n",
    "pct_collected_tx"
   ]
  },
  {
   "cell_type": "code",
   "execution_count": 145,
   "id": "6a46b9d4",
   "metadata": {},
   "outputs": [
    {
     "name": "stdout",
     "output_type": "stream",
     "text": [
      "GeoJSON file saved to CA_landfills.geojson\n"
     ]
    }
   ],
   "source": [
    "geometry = [Point(xy) for xy in zip(CA['Longitude'], CA['Latitude'])]\n",
    "\n",
    "# Convert the DataFrame to a GeoDataFrame\n",
    "gdf = gpd.GeoDataFrame(CA, geometry=geometry)\n",
    "\n",
    "# Step 4: Set the CRS (Coordinate Reference System) - here we assume WGS84 (EPSG:4326)\n",
    "gdf.set_crs(\"EPSG:4326\", allow_override=True, inplace=True)\n",
    "\n",
    "# Step 5: Save the GeoDataFrame to a GeoJSON file\n",
    "geojson_file = 'CA_landfills.geojson'  # Replace with your desired output file name\n",
    "gdf.to_file(geojson_file, driver=\"GeoJSON\")\n",
    "\n",
    "print(f\"GeoJSON file saved to {geojson_file}\")"
   ]
  },
  {
   "cell_type": "code",
   "execution_count": 158,
   "id": "c410d3fd",
   "metadata": {},
   "outputs": [
    {
     "data": {
      "text/plain": [
       "Passive Venting/Flaring?\n",
       "Unknown    176\n",
       "No         117\n",
       "Yes          6\n",
       "Name: count, dtype: int64"
      ]
     },
     "execution_count": 158,
     "metadata": {},
     "output_type": "execute_result"
    }
   ],
   "source": [
    "CA['Passive Venting/Flaring?'].value_counts()"
   ]
  },
  {
   "cell_type": "code",
   "execution_count": 159,
   "id": "e25c16b8",
   "metadata": {},
   "outputs": [
    {
     "data": {
      "text/plain": [
       "Flares in Place?\n",
       "Yes        156\n",
       "No         139\n",
       "Unknown      4\n",
       "Name: count, dtype: int64"
      ]
     },
     "execution_count": 159,
     "metadata": {},
     "output_type": "execute_result"
    }
   ],
   "source": [
    "CA['Flares in Place?'].value_counts()"
   ]
  },
  {
   "cell_type": "code",
   "execution_count": 160,
   "id": "83e1572c",
   "metadata": {},
   "outputs": [
    {
     "data": {
      "text/plain": [
       "LFG Collection System In Place?\n",
       "Yes         159\n",
       "No          136\n",
       "Unknown       3\n",
       "Shutdown      1\n",
       "Name: count, dtype: int64"
      ]
     },
     "execution_count": 160,
     "metadata": {},
     "output_type": "execute_result"
    }
   ],
   "source": [
    "CA['LFG Collection System In Place?'].value_counts()"
   ]
  },
  {
   "cell_type": "code",
   "execution_count": 163,
   "id": "3b1af9ba",
   "metadata": {},
   "outputs": [
    {
     "data": {
      "text/plain": [
       "0.9063885769646911"
      ]
     },
     "execution_count": 163,
     "metadata": {},
     "output_type": "execute_result"
    }
   ],
   "source": [
    "(CA['total_methane_collected'].sum())/(CA['total_methane'].sum())"
   ]
  },
  {
   "cell_type": "code",
   "execution_count": 11,
   "id": "830a57a6",
   "metadata": {},
   "outputs": [
    {
     "name": "stdout",
     "output_type": "stream",
     "text": [
      "Simple feature collection with 36516 features and 5 fields (with 80 geometries empty)\n",
      "Geometry type: MULTIPOLYGON\n",
      "Dimension:     XY\n",
      "Bounding box:  xmin: -124.4096 ymin: 32.53444 xmax: -114.1312 ymax: 42.00948\n",
      "Geodetic CRS:  NAD83\n",
      "First 10 features:\n",
      "         GEOID                                               NAME\n",
      "1  06077005127 Census Tract 51.27; San Joaquin County; California\n",
      "2  06077005127 Census Tract 51.27; San Joaquin County; California\n",
      "3  06077005127 Census Tract 51.27; San Joaquin County; California\n",
      "4  06077005127 Census Tract 51.27; San Joaquin County; California\n",
      "5  06077003406 Census Tract 34.06; San Joaquin County; California\n",
      "6  06077003406 Census Tract 34.06; San Joaquin County; California\n",
      "7  06077003406 Census Tract 34.06; San Joaquin County; California\n",
      "8  06077003406 Census Tract 34.06; San Joaquin County; California\n",
      "9  06077004402 Census Tract 44.02; San Joaquin County; California\n",
      "10 06077004402 Census Tract 44.02; San Joaquin County; California\n",
      "                variable estimate  moe                       geometry\n",
      "1              total_pop     7442 1224 MULTIPOLYGON (((-121.2871 3...\n",
      "2                  white     2903 1378 MULTIPOLYGON (((-121.2871 3...\n",
      "3  total_pop_for_poverty     6991  799 MULTIPOLYGON (((-121.2871 3...\n",
      "4      pop_below_poverty      561  300 MULTIPOLYGON (((-121.2871 3...\n",
      "5              total_pop     3497  718 MULTIPOLYGON (((-121.309 38...\n",
      "6                  white      962  465 MULTIPOLYGON (((-121.309 38...\n",
      "7  total_pop_for_poverty     3497  718 MULTIPOLYGON (((-121.309 38...\n",
      "8      pop_below_poverty      810  465 MULTIPOLYGON (((-121.309 38...\n",
      "9              total_pop     6002  892 MULTIPOLYGON (((-121.2734 3...\n",
      "10                 white     2718  347 MULTIPOLYGON (((-121.2734 3...\n"
     ]
    },
    {
     "data": {
      "text/plain": [
       "Getting data from the 2019-2023 5-year ACS\n",
       "Using FIPS code '06' for state 'CA'\n"
      ]
     },
     "metadata": {},
     "output_type": "display_data"
    }
   ],
   "source": [
    "%%R \n",
    "\n",
    "# Function to get data for one state\n",
    "CA_tract <- \n",
    "  get_acs(\n",
    "    geography = \"tract\",\n",
    "    state = \"CA\",\n",
    "    variables = c(\n",
    "      total_pop = \"B02001_001\",\n",
    "      white = \"B02001_002\",\n",
    "      total_pop_for_poverty = \"B17001_001\",\n",
    "      pop_below_poverty = \"B17001_002\"\n",
    "    ),\n",
    "    year = 2023,\n",
    "    survey = \"acs5\",\n",
    "    geometry = TRUE\n",
    "  )\n",
    "\n",
    "\n",
    "\n",
    "CA_tract"
   ]
  },
  {
   "cell_type": "code",
   "execution_count": 12,
   "id": "1c3a4f36",
   "metadata": {},
   "outputs": [
    {
     "name": "stdout",
     "output_type": "stream",
     "text": [
      "Simple feature collection with 9129 features and 10 fields (with 20 geometries empty)\n",
      "Geometry type: MULTIPOLYGON\n",
      "Dimension:     XY\n",
      "Bounding box:  xmin: -124.4096 ymin: 32.53444 xmax: -114.1312 ymax: 42.00948\n",
      "Geodetic CRS:  NAD83\n",
      "# A tibble: 9,129 × 11\n",
      "   GEOID       NAME                   geometry total_pop_estimate white_estimate\n",
      "   <chr>       <chr>        <MULTIPOLYGON [°]>              <dbl>          <dbl>\n",
      " 1 06077005127 Cens… (((-121.2871 37.83381, -…               7442           2903\n",
      " 2 06077003406 Cens… (((-121.309 38.02824, -1…               3497            962\n",
      " 3 06077004402 Cens… (((-121.2734 38.10811, -…               6002           2718\n",
      " 4 06077001700 Cens… (((-121.2664 37.9753, -1…               3659            856\n",
      " 5 06077000401 Cens… (((-121.3133 37.96416, -…               2933           1890\n",
      " 6 06077003404 Cens… (((-121.2951 38.03689, -…               6953           1351\n",
      " 7 06001423000 Cens… (((-122.282 37.87035, -1…               4526           2740\n",
      " 8 06001450200 Cens… (((-121.9224 37.72768, -…               5809           2437\n",
      " 9 06001422200 Cens… (((-122.2942 37.87517, -…               3239           1890\n",
      "10 06001406201 Cens… (((-122.2343 37.78497, -…               5191            575\n",
      "# ℹ 9,119 more rows\n",
      "# ℹ 6 more variables: total_pop_for_poverty_estimate <dbl>,\n",
      "#   pop_below_poverty_estimate <dbl>, total_pop_moe <dbl>, white_moe <dbl>,\n",
      "#   total_pop_for_poverty_moe <dbl>, pop_below_poverty_moe <dbl>\n",
      "# ℹ Use `print(n = ...)` to see more rows\n"
     ]
    }
   ],
   "source": [
    "%%R \n",
    "\n",
    "CA_tract <- CA_tract %>% \n",
    "  pivot_wider(\n",
    "    names_from=variable, \n",
    "    values_from = c(estimate, moe),\n",
    "    names_glue = \"{variable}_{.value}\"\n",
    "  ) # pivot from wide to long\n",
    "\n",
    "CA_tract"
   ]
  },
  {
   "cell_type": "code",
   "execution_count": 16,
   "id": "b596f829",
   "metadata": {},
   "outputs": [
    {
     "name": "stdout",
     "output_type": "stream",
     "text": [
      "Simple feature collection with 9129 features and 13 fields (with 20 geometries empty)\n",
      "Geometry type: MULTIPOLYGON\n",
      "Dimension:     XY\n",
      "Bounding box:  xmin: -124.4096 ymin: 32.53444 xmax: -114.1312 ymax: 42.00948\n",
      "Geodetic CRS:  NAD83\n",
      "# A tibble: 9,129 × 14\n",
      "   GEOID       NAME                   geometry total_pop_estimate white_estimate\n",
      " * <chr>       <chr>        <MULTIPOLYGON [°]>              <dbl>          <dbl>\n",
      " 1 06077005127 Cens… (((-121.2871 37.83381, -…               7442           2903\n",
      " 2 06077003406 Cens… (((-121.309 38.02824, -1…               3497            962\n",
      " 3 06077004402 Cens… (((-121.2734 38.10811, -…               6002           2718\n",
      " 4 06077001700 Cens… (((-121.2664 37.9753, -1…               3659            856\n",
      " 5 06077000401 Cens… (((-121.3133 37.96416, -…               2933           1890\n",
      " 6 06077003404 Cens… (((-121.2951 38.03689, -…               6953           1351\n",
      " 7 06001423000 Cens… (((-122.282 37.87035, -1…               4526           2740\n",
      " 8 06001450200 Cens… (((-121.9224 37.72768, -…               5809           2437\n",
      " 9 06001422200 Cens… (((-122.2942 37.87517, -…               3239           1890\n",
      "10 06001406201 Cens… (((-122.2343 37.78497, -…               5191            575\n",
      "# ℹ 9,119 more rows\n",
      "# ℹ 9 more variables: total_pop_for_poverty_estimate <dbl>,\n",
      "#   pop_below_poverty_estimate <dbl>, total_pop_moe <dbl>, white_moe <dbl>,\n",
      "#   total_pop_for_poverty_moe <dbl>, pop_below_poverty_moe <dbl>,\n",
      "#   borough <chr>, none_white_pop_pct <dbl>, poverty_pct <dbl>\n",
      "# ℹ Use `print(n = ...)` to see more rows\n"
     ]
    }
   ],
   "source": [
    "%%R \n",
    "\n",
    "CA_tract <- CA_tract %>% \n",
    "    mutate(\n",
    "        borough = str_split(NAME, \";\") %>% map_chr(2) %>% str_trim(),\n",
    "        none_white_pop_pct = (1 - (white_estimate / total_pop_estimate)) * 100,\n",
    "        poverty_pct = (pop_below_poverty_estimate / total_pop_for_poverty_estimate) * 100\n",
    "        )\n",
    "CA_tract"
   ]
  },
  {
   "cell_type": "code",
   "execution_count": null,
   "id": "dcf8bba4",
   "metadata": {},
   "outputs": [],
   "source": [
    "%%R \n",
    "\n",
    "library(sf)\n",
    "\n",
    "\n",
    "# Save as GeoJSON\n",
    "st_write(CA_tract, \"CA_data.geojson\")"
   ]
  },
  {
   "cell_type": "code",
   "execution_count": 22,
   "id": "b32bf9f4",
   "metadata": {},
   "outputs": [],
   "source": [
    "%%R\n",
    "\n",
    "write.csv(CA_tract, file = \"CA_census_data.csv\", row.names = FALSE)"
   ]
  },
  {
   "cell_type": "markdown",
   "id": "9132ac80",
   "metadata": {},
   "source": [
    "# CA - risk analysis"
   ]
  },
  {
   "cell_type": "code",
   "execution_count": 25,
   "id": "d7774345",
   "metadata": {},
   "outputs": [
    {
     "name": "stdout",
     "output_type": "stream",
     "text": [
      "Probability: 34.45%\n"
     ]
    }
   ],
   "source": [
    "import geopandas as gpd\n",
    "\n",
    "tracts = gpd.read_file(\"CA_data.geojson\")  # must include non-white % and geometry\n",
    "landfills = gpd.read_file(\"CA_landfills.geojson\")   # must include geometry (Point)\n",
    "\n",
    "# Make sure CRS matches\n",
    "landfills = landfills.to_crs(tracts.crs)\n",
    "\n",
    "# Step 3: Spatial join\n",
    "joined = gpd.sjoin(landfills, tracts, how=\"left\", predicate=\"intersects\")\n",
    "\n",
    "# Step 4: Filter for tracts with >50% non-white population\n",
    "landfills_in_majority_nonwhite = joined[joined[\"none_white_pop_pct\"] > 50]\n",
    "\n",
    "# Step 5: Calculate probability\n",
    "probability = len(landfills_in_majority_nonwhite) / len(landfills)\n",
    "\n",
    "print(f\"Probability: {probability:.2%}\")"
   ]
  },
  {
   "cell_type": "code",
   "execution_count": 26,
   "id": "9fefc471",
   "metadata": {},
   "outputs": [
    {
     "name": "stdout",
     "output_type": "stream",
     "text": [
      "Relative Risk: 0.47\n"
     ]
    }
   ],
   "source": [
    "landfills_in_tracts = gpd.sjoin(landfills, tracts, how=\"left\", predicate=\"intersects\")\n",
    "\n",
    "landfill_counts = landfills_in_tracts.groupby(\"index_right\").size()\n",
    "\n",
    "tracts[\"has_landfill\"] = tracts.index.map(landfill_counts).fillna(0) > 0\n",
    "\n",
    "tracts[\"majority_nonwhite\"] = tracts[\"none_white_pop_pct\"] > 50\n",
    "\n",
    "contingency = pd.crosstab(tracts[\"majority_nonwhite\"], tracts[\"has_landfill\"])\n",
    "\n",
    "# Extract counts\n",
    "A = contingency.loc[True, True]   # Non-white tract with landfill\n",
    "B = contingency.loc[True, False]  # Non-white tract without landfill\n",
    "C = contingency.loc[False, True]  # White tract with landfill\n",
    "D = contingency.loc[False, False] # White tract without landfill\n",
    "\n",
    "\n",
    "RR = (A / (A + B)) / (C / (C + D))\n",
    "print(f\"Relative Risk: {RR:.2f}\")"
   ]
  }
 ],
 "metadata": {
  "kernelspec": {
   "display_name": "Python 3",
   "language": "python",
   "name": "python3"
  },
  "language_info": {
   "codemirror_mode": {
    "name": "ipython",
    "version": 3
   },
   "file_extension": ".py",
   "mimetype": "text/x-python",
   "name": "python",
   "nbconvert_exporter": "python",
   "pygments_lexer": "ipython3",
   "version": "3.12.7"
  }
 },
 "nbformat": 4,
 "nbformat_minor": 5
}
